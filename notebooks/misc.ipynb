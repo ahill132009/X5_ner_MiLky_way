{
 "cells": [
  {
   "cell_type": "code",
   "execution_count": 1,
   "id": "6592ca50",
   "metadata": {},
   "outputs": [],
   "source": [
    "import pandas as pd\n",
    "import json"
   ]
  },
  {
   "cell_type": "code",
   "execution_count": 2,
   "id": "761c518b",
   "metadata": {},
   "outputs": [],
   "source": [
    "df = pd.read_csv(\n",
    "    '/home/mikhail/Documents/Хакатоны/X5_ner_MiLky_way/data/comparison_valid.csv'\n",
    ")"
   ]
  },
  {
   "cell_type": "code",
   "execution_count": 3,
   "id": "13e42388",
   "metadata": {},
   "outputs": [
    {
     "data": {
      "application/vnd.microsoft.datawrangler.viewer.v0+json": {
       "columns": [
        {
         "name": "index",
         "rawType": "int64",
         "type": "integer"
        },
        {
         "name": "sample",
         "rawType": "object",
         "type": "string"
        },
        {
         "name": "annotation",
         "rawType": "object",
         "type": "string"
        },
        {
         "name": "ann",
         "rawType": "object",
         "type": "string"
        }
       ],
       "ref": "520e63bb-0091-41c6-9b7b-fa4599e708ec",
       "rows": [
        [
         "0",
         "nasoic",
         "[(0, 6, 'O')]",
         "[(0, 6, 'B-BRAND')]"
        ],
        [
         "1",
         "молочный коктейль банан",
         "[(0, 8, 'B-TYPE'), (9, 17, 'I-TYPE'), (18, 23, 'O')]",
         "[(0, 8, 'B-TYPE'), (9, 17, 'I-TYPE'), (18, 23, 'B-TYPE')]"
        ],
        [
         "2",
         "царские",
         "[(0, 7, 'B-TYPE')]",
         "[(0, 7, 'B-BRAND')]"
        ],
        [
         "3",
         "зерница",
         "[(0, 7, 'B-TYPE')]",
         "[(0, 7, 'B-BRAND')]"
        ],
        [
         "4",
         "cerkizov",
         "[(0, 8, 'O')]",
         "[(0, 8, 'B-BRAND')]"
        ],
        [
         "5",
         "vinut",
         "[(0, 5, 'B-TYPE')]",
         "[(0, 5, 'B-BRAND')]"
        ],
        [
         "6",
         "веуснотеево",
         "[(0, 11, 'B-TYPE')]",
         "[(0, 11, 'B-BRAND')]"
        ],
        [
         "7",
         "сожа",
         "[(0, 4, 'B-BRAND')]",
         "[(0, 4, 'B-TYPE')]"
        ],
        [
         "8",
         "соса здоровье",
         "[(0, 4, 'B-TYPE'), (5, 13, 'B-BRAND')]",
         "[(0, 4, 'B-TYPE'), (5, 13, 'I-TYPE')]"
        ],
        [
         "9",
         "каша бычтрого приготовления",
         "[(0, 4, 'B-TYPE'), (5, 13, 'O'), (14, 27, 'O')]",
         "[(0, 4, 'B-TYPE'), (5, 13, 'I-TYPE'), (14, 27, 'I-TYPE')]"
        ],
        [
         "10",
         "лакомка",
         "[(0, 7, 'B-BRAND')]",
         "[(0, 7, 'B-TYPE')]"
        ],
        [
         "11",
         "аскор",
         "[(0, 5, 'B-BRAND')]",
         "[(0, 5, 'B-TYPE')]"
        ],
        [
         "12",
         "пю",
         "[(0, 2, 'O')]",
         "[(0, 2, 'B-TYPE')]"
        ],
        [
         "13",
         "краска для волос черная",
         "[(0, 6, 'B-TYPE'), (7, 10, 'O'), (11, 16, 'O'), (17, 23, 'O')]",
         "[(0, 6, 'B-TYPE'), (7, 10, 'O'), (11, 16, 'O'), (17, 23, 'B-BRAND')]"
        ],
        [
         "14",
         "сметанный то",
         "[(0, 9, 'B-TYPE'), (10, 12, 'I-TYPE')]",
         "[(0, 9, 'B-TYPE'), (10, 12, 'B-BRAND')]"
        ],
        [
         "15",
         "сок земляничное лето",
         "[(0, 3, 'B-TYPE'), (4, 15, 'B-BRAND'), (16, 20, 'I-BRAND')]",
         "[(0, 3, 'B-TYPE'), (4, 15, 'I-TYPE'), (16, 20, 'I-BRAND')]"
        ],
        [
         "16",
         "aarcca",
         "[(0, 6, 'O')]",
         "[(0, 6, 'B-BRAND')]"
        ],
        [
         "17",
         "макадамиа",
         "[(0, 9, 'B-TYPE')]",
         "[(0, 9, 'B-BRAND')]"
        ],
        [
         "18",
         "морковка по корейки",
         "[(0, 8, 'B-TYPE'), (9, 11, 'I-TYPE'), (12, 19, 'I-TYPE')]",
         "[(0, 8, 'B-TYPE'), (9, 11, 'O'), (12, 19, 'O')]"
        ],
        [
         "19",
         "сырокопченя кобаса",
         "[(0, 11, 'O'), (12, 18, 'O')]",
         "[(0, 11, 'B-TYPE'), (12, 18, 'I-TYPE')]"
        ],
        [
         "20",
         "будгур",
         "[(0, 6, 'B-BRAND')]",
         "[(0, 6, 'B-TYPE')]"
        ],
        [
         "21",
         "сог",
         "[(0, 3, 'O')]",
         "[(0, 3, 'B-TYPE')]"
        ],
        [
         "22",
         "lactis",
         "[(0, 6, 'B-TYPE')]",
         "[(0, 6, 'B-BRAND')]"
        ],
        [
         "23",
         "ella",
         "[(0, 4, 'O')]",
         "[(0, 4, 'B-BRAND')]"
        ],
        [
         "24",
         "сбор",
         "[(0, 4, 'O')]",
         "[(0, 4, 'B-TYPE')]"
        ],
        [
         "25",
         "вяленойрб",
         "[(0, 9, 'O')]",
         "[(0, 9, 'B-TYPE')]"
        ],
        [
         "26",
         "ассоль",
         "[(0, 6, 'B-BRAND')]",
         "[(0, 6, 'B-TYPE')]"
        ],
        [
         "27",
         "тхоарк",
         "[(0, 6, 'O')]",
         "[(0, 6, 'B-TYPE')]"
        ],
        [
         "28",
         "сыр дружба",
         "[(0, 3, 'B-TYPE'), (4, 10, 'I-TYPE')]",
         "[(0, 3, 'B-TYPE'), (4, 10, 'B-BRAND')]"
        ],
        [
         "29",
         "green milk",
         "[(0, 5, 'B-BRAND'), (6, 10, 'I-BRAND')]",
         "[(0, 5, 'B-BRAND'), (6, 10, 'I-TYPE')]"
        ],
        [
         "30",
         "пюре картофельное доширак",
         "[(0, 4, 'B-TYPE'), (5, 17, 'O'), (18, 25, 'B-BRAND')]",
         "[(0, 4, 'B-TYPE'), (5, 17, 'I-TYPE'), (18, 25, 'B-BRAND')]"
        ],
        [
         "31",
         "plant",
         "[(0, 5, 'B-TYPE')]",
         "[(0, 5, 'B-BRAND')]"
        ],
        [
         "32",
         "корейска",
         "[(0, 8, 'B-BRAND')]",
         "[(0, 8, 'B-TYPE')]"
        ],
        [
         "33",
         "телятин мороженне",
         "[(0, 7, 'O'), (8, 17, 'O')]",
         "[(0, 7, 'B-TYPE'), (8, 17, 'I-TYPE')]"
        ],
        [
         "34",
         "темп шпикач",
         "[(0, 4, 'B-BRAND'), (5, 11, 'B-TYPE')]",
         "[(0, 4, 'B-TYPE'), (5, 11, 'I-TYPE')]"
        ],
        [
         "35",
         "якшино",
         "[(0, 6, 'B-TYPE')]",
         "[(0, 6, 'B-BRAND')]"
        ],
        [
         "36",
         "сок детский банановый",
         "[(0, 3, 'B-TYPE'), (4, 11, 'O'), (12, 21, 'O')]",
         "[(0, 3, 'B-TYPE'), (4, 11, 'I-TYPE'), (12, 21, 'I-TYPE')]"
        ],
        [
         "37",
         "птица ди",
         "[(0, 5, 'B-TYPE'), (6, 8, 'I-TYPE')]",
         "[(0, 5, 'B-TYPE'), (6, 8, 'B-BRAND')]"
        ],
        [
         "38",
         "dececo",
         "[(0, 6, 'O')]",
         "[(0, 6, 'B-BRAND')]"
        ],
        [
         "39",
         "лмр",
         "[(0, 3, 'O')]",
         "[(0, 3, 'B-TYPE')]"
        ],
        [
         "40",
         "asileorovskoe",
         "[(0, 13, 'O')]",
         "[(0, 13, 'B-BRAND')]"
        ],
        [
         "41",
         "етрш",
         "[(0, 4, 'O')]",
         "[(0, 4, 'B-TYPE')]"
        ],
        [
         "42",
         "тиксы",
         "[(0, 5, 'B-BRAND')]",
         "[(0, 5, 'B-TYPE')]"
        ],
        [
         "43",
         "квас ниага",
         "[(0, 4, 'B-TYPE'), (5, 10, 'B-BRAND')]",
         "[(0, 4, 'B-TYPE'), (5, 10, 'I-TYPE')]"
        ],
        [
         "44",
         "almond",
         "[(0, 6, 'B-TYPE')]",
         "[(0, 6, 'B-BRAND')]"
        ],
        [
         "45",
         "смуззи",
         "[(0, 6, 'B-TYPE')]",
         "[(0, 6, 'B-BRAND')]"
        ],
        [
         "46",
         "кампана",
         "[(0, 7, 'B-BRAND')]",
         "[(0, 7, 'B-TYPE')]"
        ],
        [
         "47",
         "малиновка",
         "[(0, 9, 'B-BRAND')]",
         "[(0, 9, 'B-TYPE')]"
        ],
        [
         "48",
         "мобатон",
         "[(0, 7, 'B-TYPE')]",
         "[(0, 7, 'B-BRAND')]"
        ],
        [
         "49",
         "vin",
         "[(0, 3, 'B-TYPE')]",
         "[(0, 3, 'B-BRAND')]"
        ]
       ],
       "shape": {
        "columns": 3,
        "rows": 515
       }
      },
      "text/html": [
       "<div>\n",
       "<style scoped>\n",
       "    .dataframe tbody tr th:only-of-type {\n",
       "        vertical-align: middle;\n",
       "    }\n",
       "\n",
       "    .dataframe tbody tr th {\n",
       "        vertical-align: top;\n",
       "    }\n",
       "\n",
       "    .dataframe thead th {\n",
       "        text-align: right;\n",
       "    }\n",
       "</style>\n",
       "<table border=\"1\" class=\"dataframe\">\n",
       "  <thead>\n",
       "    <tr style=\"text-align: right;\">\n",
       "      <th></th>\n",
       "      <th>sample</th>\n",
       "      <th>annotation</th>\n",
       "      <th>ann</th>\n",
       "    </tr>\n",
       "  </thead>\n",
       "  <tbody>\n",
       "    <tr>\n",
       "      <th>0</th>\n",
       "      <td>nasoic</td>\n",
       "      <td>[(0, 6, 'O')]</td>\n",
       "      <td>[(0, 6, 'B-BRAND')]</td>\n",
       "    </tr>\n",
       "    <tr>\n",
       "      <th>1</th>\n",
       "      <td>молочный коктейль банан</td>\n",
       "      <td>[(0, 8, 'B-TYPE'), (9, 17, 'I-TYPE'), (18, 23,...</td>\n",
       "      <td>[(0, 8, 'B-TYPE'), (9, 17, 'I-TYPE'), (18, 23,...</td>\n",
       "    </tr>\n",
       "    <tr>\n",
       "      <th>2</th>\n",
       "      <td>царские</td>\n",
       "      <td>[(0, 7, 'B-TYPE')]</td>\n",
       "      <td>[(0, 7, 'B-BRAND')]</td>\n",
       "    </tr>\n",
       "    <tr>\n",
       "      <th>3</th>\n",
       "      <td>зерница</td>\n",
       "      <td>[(0, 7, 'B-TYPE')]</td>\n",
       "      <td>[(0, 7, 'B-BRAND')]</td>\n",
       "    </tr>\n",
       "    <tr>\n",
       "      <th>4</th>\n",
       "      <td>cerkizov</td>\n",
       "      <td>[(0, 8, 'O')]</td>\n",
       "      <td>[(0, 8, 'B-BRAND')]</td>\n",
       "    </tr>\n",
       "    <tr>\n",
       "      <th>...</th>\n",
       "      <td>...</td>\n",
       "      <td>...</td>\n",
       "      <td>...</td>\n",
       "    </tr>\n",
       "    <tr>\n",
       "      <th>510</th>\n",
       "      <td>sarm</td>\n",
       "      <td>[(0, 4, 'B-BRAND')]</td>\n",
       "      <td>[(0, 4, 'O')]</td>\n",
       "    </tr>\n",
       "    <tr>\n",
       "      <th>511</th>\n",
       "      <td>каша жидкая безмолочная</td>\n",
       "      <td>[(0, 4, 'B-TYPE'), (5, 11, 'O'), (12, 23, 'O')]</td>\n",
       "      <td>[(0, 4, 'B-TYPE'), (5, 11, 'I-TYPE'), (12, 23,...</td>\n",
       "    </tr>\n",
       "    <tr>\n",
       "      <th>512</th>\n",
       "      <td>кртки, вероки</td>\n",
       "      <td>[(0, 6, 'O'), (7, 13, 'O')]</td>\n",
       "      <td>[(0, 6, 'B-TYPE'), (7, 13, 'I-TYPE')]</td>\n",
       "    </tr>\n",
       "    <tr>\n",
       "      <th>513</th>\n",
       "      <td>ipa</td>\n",
       "      <td>[(0, 3, 'B-TYPE')]</td>\n",
       "      <td>[(0, 3, 'B-BRAND')]</td>\n",
       "    </tr>\n",
       "    <tr>\n",
       "      <th>514</th>\n",
       "      <td>конфеты карамель красная цена</td>\n",
       "      <td>[(0, 7, 'B-TYPE'), (8, 16, 'I-TYPE'), (17, 24,...</td>\n",
       "      <td>[(0, 7, 'B-TYPE'), (8, 16, 'B-BRAND'), (17, 24...</td>\n",
       "    </tr>\n",
       "  </tbody>\n",
       "</table>\n",
       "<p>515 rows × 3 columns</p>\n",
       "</div>"
      ],
      "text/plain": [
       "                            sample  \\\n",
       "0                           nasoic   \n",
       "1          молочный коктейль банан   \n",
       "2                          царские   \n",
       "3                          зерница   \n",
       "4                         cerkizov   \n",
       "..                             ...   \n",
       "510                           sarm   \n",
       "511        каша жидкая безмолочная   \n",
       "512                  кртки, вероки   \n",
       "513                            ipa   \n",
       "514  конфеты карамель красная цена   \n",
       "\n",
       "                                            annotation  \\\n",
       "0                                        [(0, 6, 'O')]   \n",
       "1    [(0, 8, 'B-TYPE'), (9, 17, 'I-TYPE'), (18, 23,...   \n",
       "2                                   [(0, 7, 'B-TYPE')]   \n",
       "3                                   [(0, 7, 'B-TYPE')]   \n",
       "4                                        [(0, 8, 'O')]   \n",
       "..                                                 ...   \n",
       "510                                [(0, 4, 'B-BRAND')]   \n",
       "511    [(0, 4, 'B-TYPE'), (5, 11, 'O'), (12, 23, 'O')]   \n",
       "512                        [(0, 6, 'O'), (7, 13, 'O')]   \n",
       "513                                 [(0, 3, 'B-TYPE')]   \n",
       "514  [(0, 7, 'B-TYPE'), (8, 16, 'I-TYPE'), (17, 24,...   \n",
       "\n",
       "                                                   ann  \n",
       "0                                  [(0, 6, 'B-BRAND')]  \n",
       "1    [(0, 8, 'B-TYPE'), (9, 17, 'I-TYPE'), (18, 23,...  \n",
       "2                                  [(0, 7, 'B-BRAND')]  \n",
       "3                                  [(0, 7, 'B-BRAND')]  \n",
       "4                                  [(0, 8, 'B-BRAND')]  \n",
       "..                                                 ...  \n",
       "510                                      [(0, 4, 'O')]  \n",
       "511  [(0, 4, 'B-TYPE'), (5, 11, 'I-TYPE'), (12, 23,...  \n",
       "512              [(0, 6, 'B-TYPE'), (7, 13, 'I-TYPE')]  \n",
       "513                                [(0, 3, 'B-BRAND')]  \n",
       "514  [(0, 7, 'B-TYPE'), (8, 16, 'B-BRAND'), (17, 24...  \n",
       "\n",
       "[515 rows x 3 columns]"
      ]
     },
     "execution_count": 3,
     "metadata": {},
     "output_type": "execute_result"
    }
   ],
   "source": [
    "df"
   ]
  },
  {
   "cell_type": "code",
   "execution_count": 5,
   "id": "3e1e7f15",
   "metadata": {},
   "outputs": [],
   "source": [
    "j = \"\"\"{\n",
    "        \"category\": {\n",
    "            \"id\": 282,\n",
    "            \"title\": \"\\u041e\\u0442 \\u041f\\u0435\\u0440\\u0435\\u043a\\u0440\\u0451\\u0441\\u0442\\u043a\\u0430\",\n",
    "            \"slug\": \"ot-perekrestka\",\n",
    "            \"parentId\": \"null\"\n",
    "        }\n",
    "}\"\"\""
   ]
  },
  {
   "cell_type": "code",
   "execution_count": 7,
   "id": "5ecabc37",
   "metadata": {},
   "outputs": [
    {
     "data": {
      "text/plain": [
       "{'id': 282,\n",
       " 'title': 'От Перекрёстка',\n",
       " 'slug': 'ot-perekrestka',\n",
       " 'parentId': 'null'}"
      ]
     },
     "execution_count": 7,
     "metadata": {},
     "output_type": "execute_result"
    }
   ],
   "source": [
    "json.loads(j)[\"category\"]"
   ]
  },
  {
   "cell_type": "code",
   "execution_count": 9,
   "id": "4e6f4437",
   "metadata": {},
   "outputs": [],
   "source": [
    "with open(\"/home/mikhail/Documents/Хакатоны/X5_ner_MiLky_way/parser/parse_perek_categories.json\", \"r\") as f:\n",
    "    cats = json.load(f)"
   ]
  },
  {
   "cell_type": "code",
   "execution_count": 10,
   "id": "a7c9e6b0",
   "metadata": {},
   "outputs": [
    {
     "data": {
      "text/plain": [
       "30"
      ]
     },
     "execution_count": 10,
     "metadata": {},
     "output_type": "execute_result"
    }
   ],
   "source": [
    "len(cats)"
   ]
  },
  {
   "cell_type": "code",
   "execution_count": null,
   "id": "840291f1",
   "metadata": {},
   "outputs": [
    {
     "name": "stdout",
     "output_type": "stream",
     "text": [
      "От Перекрёстка\n",
      "Готовая еда\n",
      "Молоко, сыр, яйца\n",
      "Овощи, фрукты, грибы\n",
      "Макароны, крупы, масло, специи\n",
      "Чипсы, снеки, попкорн\n",
      "Шоколад, конфеты, сладости\n",
      "Соки, воды, напитки\n",
      "Хлеб и выпечка\n",
      "Мясо и птица\n",
      "Колбасные изделия\n",
      "Рыба\n",
      "Замороженные продукты\n",
      "Морепродукты\n",
      "Товары для мам и детей\n",
      "Соусы, кетчупы, майонезы\n",
      "Кофе, чай, какао, сахар\n",
      "Сухие завтраки, мюсли\n",
      "Продукты быстрого приготовления\n",
      "Консервация\n",
      "Здоровье\n",
      "Орехи, семечки, сухофрукты\n",
      "Мёд, варенье, джемы, сиропы\n",
      "Зоотовары\n",
      "Красота, гигиена, аптека\n",
      "Уборка\n",
      "Посуда\n",
      "Для дома и дачи\n",
      "Алкогольные напитки\n",
      "Системы нагревания, табак\n"
     ]
    }
   ],
   "source": [
    "for i in range(len(cats)):\n",
    "    if cats[i][\"category\"][\"title\"] == \"Молоко, сыр, яйца\":\n",
    "        print(cats[i][\"category\"])\n",
    "        break\n"
   ]
  },
  {
   "cell_type": "code",
   "execution_count": 14,
   "id": "4d3cd77e",
   "metadata": {},
   "outputs": [],
   "source": [
    "with open(\"/home/mikhail/Documents/Хакатоны/X5_ner_MiLky_way/parser/parse_perek_Готовая еда_items.json\", \"r\") as f:\n",
    "    items = json.load(f)"
   ]
  },
  {
   "cell_type": "code",
   "execution_count": 15,
   "id": "4bbfba23",
   "metadata": {},
   "outputs": [
    {
     "data": {
      "text/plain": [
       "100"
      ]
     },
     "execution_count": 15,
     "metadata": {},
     "output_type": "execute_result"
    }
   ],
   "source": [
    "len(items)"
   ]
  },
  {
   "cell_type": "code",
   "execution_count": null,
   "id": "d90a263d",
   "metadata": {},
   "outputs": [],
   "source": [
    "from perekrestok_api import PerekrestokAPI\n",
    "from perekrestok_api import abstraction"
   ]
  },
  {
   "cell_type": "code",
   "execution_count": 18,
   "id": "1b799053",
   "metadata": {},
   "outputs": [],
   "source": [
    "def main():\n",
    "    with PerekrestokAPI() as Api:\n",
    "        geopos_handler = Api.Geolocation.current()\n",
    "        geopos = geopos_handler.json()\n",
    "        print(f'Текущий город сессии {geopos[\"content\"][\"city\"][\"name\"]} ({geopos[\"content\"][\"city\"][\"id\"]})')\n",
    "\n",
    "        # Получаем список категорий\n",
    "        categories = Api.Catalog.tree()\n",
    "        cat = categories.json()\n",
    "        print(f'Список категорий: {len(cat[\"content\"][\"items\"])}')\n",
    "        with open('./parser/parse_perek_categories.json', 'w+', encoding=\"utf-8\") as f:\n",
    "            json.dump(cat[\"content\"][\"items\"], f, indent=4, ensure_ascii=False) \n",
    "\n",
    "        # Выводим первую категорию\n",
    "        cat_name = cat[\"content\"][\"items\"][1][\"category\"][\"title\"]\n",
    "        cat_id = cat[\"content\"][\"items\"][1][\"category\"][\"id\"]\n",
    "        print(f'Категория: {cat_name}, id: ({cat_id})')\n",
    "\n",
    "        filter = abstraction.CatalogFeedFilter()\n",
    "        filter.CATEGORY_ID = cat_id\n",
    "        products = Api.Catalog.feed(filter=filter, page=1)\n",
    "        response_items = products.json()\n",
    "\n",
    "        with open(f'./parser/parse_perek_test_full_response.json', 'w+', encoding=\"utf-8\") as f:\n",
    "            json.dump(response_items, f, indent=4, ensure_ascii=False) "
   ]
  },
  {
   "cell_type": "code",
   "execution_count": 19,
   "id": "c8b2254d",
   "metadata": {},
   "outputs": [
    {
     "ename": "RuntimeError",
     "evalue": "asyncio.run() cannot be called from a running event loop",
     "output_type": "error",
     "traceback": [
      "\u001b[31m---------------------------------------------------------------------------\u001b[39m",
      "\u001b[31mRuntimeError\u001b[39m                              Traceback (most recent call last)",
      "\u001b[36mCell\u001b[39m\u001b[36m \u001b[39m\u001b[32mIn[19]\u001b[39m\u001b[32m, line 2\u001b[39m\n\u001b[32m      1\u001b[39m \u001b[38;5;28;01mif\u001b[39;00m \u001b[34m__name__\u001b[39m == \u001b[33m\"\u001b[39m\u001b[33m__main__\u001b[39m\u001b[33m\"\u001b[39m:\n\u001b[32m----> \u001b[39m\u001b[32m2\u001b[39m     \u001b[43mmain\u001b[49m\u001b[43m(\u001b[49m\u001b[43m)\u001b[49m\n",
      "\u001b[36mCell\u001b[39m\u001b[36m \u001b[39m\u001b[32mIn[18]\u001b[39m\u001b[32m, line 2\u001b[39m, in \u001b[36mmain\u001b[39m\u001b[34m()\u001b[39m\n\u001b[32m      1\u001b[39m \u001b[38;5;28;01mdef\u001b[39;00m\u001b[38;5;250m \u001b[39m\u001b[34mmain\u001b[39m():\n\u001b[32m----> \u001b[39m\u001b[32m2\u001b[39m \u001b[43m    \u001b[49m\u001b[38;5;28;43;01mwith\u001b[39;49;00m\u001b[43m \u001b[49m\u001b[43mPerekrestokAPI\u001b[49m\u001b[43m(\u001b[49m\u001b[43m)\u001b[49m\u001b[43m \u001b[49m\u001b[38;5;28;43;01mas\u001b[39;49;00m\u001b[43m \u001b[49m\u001b[43mApi\u001b[49m\u001b[43m:\u001b[49m\n\u001b[32m      3\u001b[39m \u001b[43m        \u001b[49m\u001b[43mgeopos_handler\u001b[49m\u001b[43m \u001b[49m\u001b[43m=\u001b[49m\u001b[43m \u001b[49m\u001b[43mApi\u001b[49m\u001b[43m.\u001b[49m\u001b[43mGeolocation\u001b[49m\u001b[43m.\u001b[49m\u001b[43mcurrent\u001b[49m\u001b[43m(\u001b[49m\u001b[43m)\u001b[49m\n\u001b[32m      4\u001b[39m \u001b[43m        \u001b[49m\u001b[43mgeopos\u001b[49m\u001b[43m \u001b[49m\u001b[43m=\u001b[49m\u001b[43m \u001b[49m\u001b[43mgeopos_handler\u001b[49m\u001b[43m.\u001b[49m\u001b[43mjson\u001b[49m\u001b[43m(\u001b[49m\u001b[43m)\u001b[49m\n",
      "\u001b[36mFile \u001b[39m\u001b[32m~/Documents/Хакатоны/X5_ner_MiLky_way/.venv/lib/python3.12/site-packages/perekrestok_api/manager.py:71\u001b[39m, in \u001b[36mPerekrestokAPI.__enter__\u001b[39m\u001b[34m(self)\u001b[39m\n\u001b[32m     69\u001b[39m \u001b[38;5;28;01mdef\u001b[39;00m\u001b[38;5;250m \u001b[39m\u001b[34m__enter__\u001b[39m(\u001b[38;5;28mself\u001b[39m):\n\u001b[32m     70\u001b[39m \u001b[38;5;250m    \u001b[39m\u001b[33;03m\"\"\"Вход в контекстный менеджер с автоматическим прогревом сессии.\"\"\"\u001b[39;00m\n\u001b[32m---> \u001b[39m\u001b[32m71\u001b[39m     \u001b[38;5;28;43mself\u001b[39;49m\u001b[43m.\u001b[49m\u001b[43m_warmup\u001b[49m\u001b[43m(\u001b[49m\u001b[43m)\u001b[49m\n\u001b[32m     72\u001b[39m     \u001b[38;5;28;01mreturn\u001b[39;00m \u001b[38;5;28mself\u001b[39m\n",
      "\u001b[36mFile \u001b[39m\u001b[32m~/Documents/Хакатоны/X5_ner_MiLky_way/.venv/lib/python3.12/site-packages/perekrestok_api/manager.py:113\u001b[39m, in \u001b[36mPerekrestokAPI._warmup\u001b[39m\u001b[34m(self)\u001b[39m\n\u001b[32m    107\u001b[39m \u001b[38;5;250m\u001b[39m\u001b[33;03m\"\"\"Прогрев сессии через браузер для получения токена доступа.\u001b[39;00m\n\u001b[32m    108\u001b[39m \u001b[33;03m\u001b[39;00m\n\u001b[32m    109\u001b[39m \u001b[33;03mОткрывает главную страницу сайта в headless браузере, получает cookie сессии\u001b[39;00m\n\u001b[32m    110\u001b[39m \u001b[33;03mи извлекает из неё access token для последующих API запросов.\u001b[39;00m\n\u001b[32m    111\u001b[39m \u001b[33;03m\"\"\"\u001b[39;00m\n\u001b[32m    112\u001b[39m \u001b[38;5;28;01mif\u001b[39;00m \u001b[38;5;28mself\u001b[39m.access_token \u001b[38;5;129;01mis\u001b[39;00m \u001b[38;5;28;01mNone\u001b[39;00m:\n\u001b[32m--> \u001b[39m\u001b[32m113\u001b[39m     \u001b[38;5;28;01mwith\u001b[39;00m \u001b[43mhrequests\u001b[49m\u001b[43m.\u001b[49m\u001b[43mBrowserSession\u001b[49m\u001b[43m(\u001b[49m\n\u001b[32m    114\u001b[39m \u001b[43m        \u001b[49m\u001b[43msession\u001b[49m\u001b[43m=\u001b[49m\u001b[38;5;28;43mself\u001b[39;49m\u001b[43m.\u001b[49m\u001b[43msession\u001b[49m\u001b[43m,\u001b[49m\n\u001b[32m    115\u001b[39m \u001b[43m        \u001b[49m\u001b[43mbrowser\u001b[49m\u001b[43m=\u001b[49m\u001b[38;5;28;43mself\u001b[39;49m\u001b[43m.\u001b[49m\u001b[43mbrowser\u001b[49m\u001b[43m,\u001b[49m\n\u001b[32m    116\u001b[39m \u001b[43m        \u001b[49m\u001b[43mheadless\u001b[49m\u001b[43m=\u001b[49m\u001b[38;5;28;43mself\u001b[39;49m\u001b[43m.\u001b[49m\u001b[43mheadless\u001b[49m\u001b[43m,\u001b[49m\n\u001b[32m    117\u001b[39m \u001b[43m        \u001b[49m\u001b[43m*\u001b[49m\u001b[43m*\u001b[49m\u001b[38;5;28;43mself\u001b[39;49m\u001b[43m.\u001b[49m\u001b[43mbrowser_opts\u001b[49m\u001b[43m,\u001b[49m\n\u001b[32m    118\u001b[39m \u001b[43m    \u001b[49m\u001b[43m)\u001b[49m \u001b[38;5;28;01mas\u001b[39;00m page:\n\u001b[32m    119\u001b[39m         page.goto(MAIN_SITE_URL)\n\u001b[32m    120\u001b[39m         page.awaitSelector(\u001b[33m\"\u001b[39m\u001b[33m#app\u001b[39m\u001b[33m\"\u001b[39m, timeout=\u001b[38;5;28mself\u001b[39m.timeout)\n",
      "\u001b[36mFile \u001b[39m\u001b[32m~/Documents/Хакатоны/X5_ner_MiLky_way/.venv/lib/python3.12/site-packages/hrequests/browser/browser.py:126\u001b[39m, in \u001b[36mBrowserSession.__init__\u001b[39m\u001b[34m(self, session, resp, proxy, mock_human, extensions, os, engine, browser, verify, **launch_options)\u001b[39m\n\u001b[32m    123\u001b[39m \u001b[38;5;28mself\u001b[39m.launch_options[\u001b[33m'\u001b[39m\u001b[33menable_cache\u001b[39m\u001b[33m'\u001b[39m] = \u001b[38;5;28mself\u001b[39m.launch_options.get(\u001b[33m'\u001b[39m\u001b[33menable_cache\u001b[39m\u001b[33m'\u001b[39m, \u001b[38;5;28;01mTrue\u001b[39;00m)\n\u001b[32m    125\u001b[39m \u001b[38;5;66;03m# Start the browser\u001b[39;00m\n\u001b[32m--> \u001b[39m\u001b[32m126\u001b[39m \u001b[38;5;28;43mself\u001b[39;49m\u001b[43m.\u001b[49m\u001b[43mstart\u001b[49m\u001b[43m(\u001b[49m\u001b[43m)\u001b[49m\n",
      "\u001b[36mFile \u001b[39m\u001b[32m~/Documents/Хакатоны/X5_ner_MiLky_way/.venv/lib/python3.12/site-packages/hrequests/browser/browser.py:129\u001b[39m, in \u001b[36mBrowserSession.start\u001b[39m\u001b[34m(self)\u001b[39m\n\u001b[32m    128\u001b[39m \u001b[38;5;28;01mdef\u001b[39;00m\u001b[38;5;250m \u001b[39m\u001b[34mstart\u001b[39m(\u001b[38;5;28mself\u001b[39m) -> \u001b[38;5;28;01mNone\u001b[39;00m:\n\u001b[32m--> \u001b[39m\u001b[32m129\u001b[39m     \u001b[43masyncio\u001b[49m\u001b[43m.\u001b[49m\u001b[43mrun\u001b[49m\u001b[43m(\u001b[49m\u001b[38;5;28;43mself\u001b[39;49m\u001b[43m.\u001b[49m\u001b[43m__start\u001b[49m\u001b[43m(\u001b[49m\u001b[43m)\u001b[49m\u001b[43m)\u001b[49m\n",
      "\u001b[36mFile \u001b[39m\u001b[32m/usr/lib/python3.12/asyncio/runners.py:191\u001b[39m, in \u001b[36mrun\u001b[39m\u001b[34m(main, debug, loop_factory)\u001b[39m\n\u001b[32m    161\u001b[39m \u001b[38;5;250m\u001b[39m\u001b[33;03m\"\"\"Execute the coroutine and return the result.\u001b[39;00m\n\u001b[32m    162\u001b[39m \n\u001b[32m    163\u001b[39m \u001b[33;03mThis function runs the passed coroutine, taking care of\u001b[39;00m\n\u001b[32m   (...)\u001b[39m\u001b[32m    187\u001b[39m \u001b[33;03m    asyncio.run(main())\u001b[39;00m\n\u001b[32m    188\u001b[39m \u001b[33;03m\"\"\"\u001b[39;00m\n\u001b[32m    189\u001b[39m \u001b[38;5;28;01mif\u001b[39;00m events._get_running_loop() \u001b[38;5;129;01mis\u001b[39;00m \u001b[38;5;129;01mnot\u001b[39;00m \u001b[38;5;28;01mNone\u001b[39;00m:\n\u001b[32m    190\u001b[39m     \u001b[38;5;66;03m# fail fast with short traceback\u001b[39;00m\n\u001b[32m--> \u001b[39m\u001b[32m191\u001b[39m     \u001b[38;5;28;01mraise\u001b[39;00m \u001b[38;5;167;01mRuntimeError\u001b[39;00m(\n\u001b[32m    192\u001b[39m         \u001b[33m\"\u001b[39m\u001b[33masyncio.run() cannot be called from a running event loop\u001b[39m\u001b[33m\"\u001b[39m)\n\u001b[32m    194\u001b[39m \u001b[38;5;28;01mwith\u001b[39;00m Runner(debug=debug, loop_factory=loop_factory) \u001b[38;5;28;01mas\u001b[39;00m runner:\n\u001b[32m    195\u001b[39m     \u001b[38;5;28;01mreturn\u001b[39;00m runner.run(main)\n",
      "\u001b[31mRuntimeError\u001b[39m: asyncio.run() cannot be called from a running event loop"
     ]
    }
   ],
   "source": [
    "if __name__ == \"__main__\":\n",
    "    main()"
   ]
  },
  {
   "cell_type": "code",
   "execution_count": null,
   "id": "3a07172b",
   "metadata": {},
   "outputs": [],
   "source": []
  }
 ],
 "metadata": {
  "kernelspec": {
   "display_name": ".venv",
   "language": "python",
   "name": "python3"
  },
  "language_info": {
   "codemirror_mode": {
    "name": "ipython",
    "version": 3
   },
   "file_extension": ".py",
   "mimetype": "text/x-python",
   "name": "python",
   "nbconvert_exporter": "python",
   "pygments_lexer": "ipython3",
   "version": "3.12.11"
  }
 },
 "nbformat": 4,
 "nbformat_minor": 5
}
