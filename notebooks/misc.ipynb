{
 "cells": [
  {
   "cell_type": "code",
   "execution_count": 4,
   "id": "6592ca50",
   "metadata": {},
   "outputs": [],
   "source": [
    "import pandas as pd\n",
    "import json"
   ]
  },
  {
   "cell_type": "code",
   "execution_count": 2,
   "id": "761c518b",
   "metadata": {},
   "outputs": [],
   "source": [
    "df = pd.read_csv(\n",
    "    '/home/mikhail/Documents/Хакатоны/X5_ner_MiLky_way/data/comparison_valid.csv'\n",
    ")"
   ]
  },
  {
   "cell_type": "code",
   "execution_count": 3,
   "id": "13e42388",
   "metadata": {},
   "outputs": [
    {
     "data": {
      "application/vnd.microsoft.datawrangler.viewer.v0+json": {
       "columns": [
        {
         "name": "index",
         "rawType": "int64",
         "type": "integer"
        },
        {
         "name": "sample",
         "rawType": "object",
         "type": "string"
        },
        {
         "name": "annotation",
         "rawType": "object",
         "type": "string"
        },
        {
         "name": "ann",
         "rawType": "object",
         "type": "string"
        }
       ],
       "ref": "520e63bb-0091-41c6-9b7b-fa4599e708ec",
       "rows": [
        [
         "0",
         "nasoic",
         "[(0, 6, 'O')]",
         "[(0, 6, 'B-BRAND')]"
        ],
        [
         "1",
         "молочный коктейль банан",
         "[(0, 8, 'B-TYPE'), (9, 17, 'I-TYPE'), (18, 23, 'O')]",
         "[(0, 8, 'B-TYPE'), (9, 17, 'I-TYPE'), (18, 23, 'B-TYPE')]"
        ],
        [
         "2",
         "царские",
         "[(0, 7, 'B-TYPE')]",
         "[(0, 7, 'B-BRAND')]"
        ],
        [
         "3",
         "зерница",
         "[(0, 7, 'B-TYPE')]",
         "[(0, 7, 'B-BRAND')]"
        ],
        [
         "4",
         "cerkizov",
         "[(0, 8, 'O')]",
         "[(0, 8, 'B-BRAND')]"
        ],
        [
         "5",
         "vinut",
         "[(0, 5, 'B-TYPE')]",
         "[(0, 5, 'B-BRAND')]"
        ],
        [
         "6",
         "веуснотеево",
         "[(0, 11, 'B-TYPE')]",
         "[(0, 11, 'B-BRAND')]"
        ],
        [
         "7",
         "сожа",
         "[(0, 4, 'B-BRAND')]",
         "[(0, 4, 'B-TYPE')]"
        ],
        [
         "8",
         "соса здоровье",
         "[(0, 4, 'B-TYPE'), (5, 13, 'B-BRAND')]",
         "[(0, 4, 'B-TYPE'), (5, 13, 'I-TYPE')]"
        ],
        [
         "9",
         "каша бычтрого приготовления",
         "[(0, 4, 'B-TYPE'), (5, 13, 'O'), (14, 27, 'O')]",
         "[(0, 4, 'B-TYPE'), (5, 13, 'I-TYPE'), (14, 27, 'I-TYPE')]"
        ],
        [
         "10",
         "лакомка",
         "[(0, 7, 'B-BRAND')]",
         "[(0, 7, 'B-TYPE')]"
        ],
        [
         "11",
         "аскор",
         "[(0, 5, 'B-BRAND')]",
         "[(0, 5, 'B-TYPE')]"
        ],
        [
         "12",
         "пю",
         "[(0, 2, 'O')]",
         "[(0, 2, 'B-TYPE')]"
        ],
        [
         "13",
         "краска для волос черная",
         "[(0, 6, 'B-TYPE'), (7, 10, 'O'), (11, 16, 'O'), (17, 23, 'O')]",
         "[(0, 6, 'B-TYPE'), (7, 10, 'O'), (11, 16, 'O'), (17, 23, 'B-BRAND')]"
        ],
        [
         "14",
         "сметанный то",
         "[(0, 9, 'B-TYPE'), (10, 12, 'I-TYPE')]",
         "[(0, 9, 'B-TYPE'), (10, 12, 'B-BRAND')]"
        ],
        [
         "15",
         "сок земляничное лето",
         "[(0, 3, 'B-TYPE'), (4, 15, 'B-BRAND'), (16, 20, 'I-BRAND')]",
         "[(0, 3, 'B-TYPE'), (4, 15, 'I-TYPE'), (16, 20, 'I-BRAND')]"
        ],
        [
         "16",
         "aarcca",
         "[(0, 6, 'O')]",
         "[(0, 6, 'B-BRAND')]"
        ],
        [
         "17",
         "макадамиа",
         "[(0, 9, 'B-TYPE')]",
         "[(0, 9, 'B-BRAND')]"
        ],
        [
         "18",
         "морковка по корейки",
         "[(0, 8, 'B-TYPE'), (9, 11, 'I-TYPE'), (12, 19, 'I-TYPE')]",
         "[(0, 8, 'B-TYPE'), (9, 11, 'O'), (12, 19, 'O')]"
        ],
        [
         "19",
         "сырокопченя кобаса",
         "[(0, 11, 'O'), (12, 18, 'O')]",
         "[(0, 11, 'B-TYPE'), (12, 18, 'I-TYPE')]"
        ],
        [
         "20",
         "будгур",
         "[(0, 6, 'B-BRAND')]",
         "[(0, 6, 'B-TYPE')]"
        ],
        [
         "21",
         "сог",
         "[(0, 3, 'O')]",
         "[(0, 3, 'B-TYPE')]"
        ],
        [
         "22",
         "lactis",
         "[(0, 6, 'B-TYPE')]",
         "[(0, 6, 'B-BRAND')]"
        ],
        [
         "23",
         "ella",
         "[(0, 4, 'O')]",
         "[(0, 4, 'B-BRAND')]"
        ],
        [
         "24",
         "сбор",
         "[(0, 4, 'O')]",
         "[(0, 4, 'B-TYPE')]"
        ],
        [
         "25",
         "вяленойрб",
         "[(0, 9, 'O')]",
         "[(0, 9, 'B-TYPE')]"
        ],
        [
         "26",
         "ассоль",
         "[(0, 6, 'B-BRAND')]",
         "[(0, 6, 'B-TYPE')]"
        ],
        [
         "27",
         "тхоарк",
         "[(0, 6, 'O')]",
         "[(0, 6, 'B-TYPE')]"
        ],
        [
         "28",
         "сыр дружба",
         "[(0, 3, 'B-TYPE'), (4, 10, 'I-TYPE')]",
         "[(0, 3, 'B-TYPE'), (4, 10, 'B-BRAND')]"
        ],
        [
         "29",
         "green milk",
         "[(0, 5, 'B-BRAND'), (6, 10, 'I-BRAND')]",
         "[(0, 5, 'B-BRAND'), (6, 10, 'I-TYPE')]"
        ],
        [
         "30",
         "пюре картофельное доширак",
         "[(0, 4, 'B-TYPE'), (5, 17, 'O'), (18, 25, 'B-BRAND')]",
         "[(0, 4, 'B-TYPE'), (5, 17, 'I-TYPE'), (18, 25, 'B-BRAND')]"
        ],
        [
         "31",
         "plant",
         "[(0, 5, 'B-TYPE')]",
         "[(0, 5, 'B-BRAND')]"
        ],
        [
         "32",
         "корейска",
         "[(0, 8, 'B-BRAND')]",
         "[(0, 8, 'B-TYPE')]"
        ],
        [
         "33",
         "телятин мороженне",
         "[(0, 7, 'O'), (8, 17, 'O')]",
         "[(0, 7, 'B-TYPE'), (8, 17, 'I-TYPE')]"
        ],
        [
         "34",
         "темп шпикач",
         "[(0, 4, 'B-BRAND'), (5, 11, 'B-TYPE')]",
         "[(0, 4, 'B-TYPE'), (5, 11, 'I-TYPE')]"
        ],
        [
         "35",
         "якшино",
         "[(0, 6, 'B-TYPE')]",
         "[(0, 6, 'B-BRAND')]"
        ],
        [
         "36",
         "сок детский банановый",
         "[(0, 3, 'B-TYPE'), (4, 11, 'O'), (12, 21, 'O')]",
         "[(0, 3, 'B-TYPE'), (4, 11, 'I-TYPE'), (12, 21, 'I-TYPE')]"
        ],
        [
         "37",
         "птица ди",
         "[(0, 5, 'B-TYPE'), (6, 8, 'I-TYPE')]",
         "[(0, 5, 'B-TYPE'), (6, 8, 'B-BRAND')]"
        ],
        [
         "38",
         "dececo",
         "[(0, 6, 'O')]",
         "[(0, 6, 'B-BRAND')]"
        ],
        [
         "39",
         "лмр",
         "[(0, 3, 'O')]",
         "[(0, 3, 'B-TYPE')]"
        ],
        [
         "40",
         "asileorovskoe",
         "[(0, 13, 'O')]",
         "[(0, 13, 'B-BRAND')]"
        ],
        [
         "41",
         "етрш",
         "[(0, 4, 'O')]",
         "[(0, 4, 'B-TYPE')]"
        ],
        [
         "42",
         "тиксы",
         "[(0, 5, 'B-BRAND')]",
         "[(0, 5, 'B-TYPE')]"
        ],
        [
         "43",
         "квас ниага",
         "[(0, 4, 'B-TYPE'), (5, 10, 'B-BRAND')]",
         "[(0, 4, 'B-TYPE'), (5, 10, 'I-TYPE')]"
        ],
        [
         "44",
         "almond",
         "[(0, 6, 'B-TYPE')]",
         "[(0, 6, 'B-BRAND')]"
        ],
        [
         "45",
         "смуззи",
         "[(0, 6, 'B-TYPE')]",
         "[(0, 6, 'B-BRAND')]"
        ],
        [
         "46",
         "кампана",
         "[(0, 7, 'B-BRAND')]",
         "[(0, 7, 'B-TYPE')]"
        ],
        [
         "47",
         "малиновка",
         "[(0, 9, 'B-BRAND')]",
         "[(0, 9, 'B-TYPE')]"
        ],
        [
         "48",
         "мобатон",
         "[(0, 7, 'B-TYPE')]",
         "[(0, 7, 'B-BRAND')]"
        ],
        [
         "49",
         "vin",
         "[(0, 3, 'B-TYPE')]",
         "[(0, 3, 'B-BRAND')]"
        ]
       ],
       "shape": {
        "columns": 3,
        "rows": 515
       }
      },
      "text/html": [
       "<div>\n",
       "<style scoped>\n",
       "    .dataframe tbody tr th:only-of-type {\n",
       "        vertical-align: middle;\n",
       "    }\n",
       "\n",
       "    .dataframe tbody tr th {\n",
       "        vertical-align: top;\n",
       "    }\n",
       "\n",
       "    .dataframe thead th {\n",
       "        text-align: right;\n",
       "    }\n",
       "</style>\n",
       "<table border=\"1\" class=\"dataframe\">\n",
       "  <thead>\n",
       "    <tr style=\"text-align: right;\">\n",
       "      <th></th>\n",
       "      <th>sample</th>\n",
       "      <th>annotation</th>\n",
       "      <th>ann</th>\n",
       "    </tr>\n",
       "  </thead>\n",
       "  <tbody>\n",
       "    <tr>\n",
       "      <th>0</th>\n",
       "      <td>nasoic</td>\n",
       "      <td>[(0, 6, 'O')]</td>\n",
       "      <td>[(0, 6, 'B-BRAND')]</td>\n",
       "    </tr>\n",
       "    <tr>\n",
       "      <th>1</th>\n",
       "      <td>молочный коктейль банан</td>\n",
       "      <td>[(0, 8, 'B-TYPE'), (9, 17, 'I-TYPE'), (18, 23,...</td>\n",
       "      <td>[(0, 8, 'B-TYPE'), (9, 17, 'I-TYPE'), (18, 23,...</td>\n",
       "    </tr>\n",
       "    <tr>\n",
       "      <th>2</th>\n",
       "      <td>царские</td>\n",
       "      <td>[(0, 7, 'B-TYPE')]</td>\n",
       "      <td>[(0, 7, 'B-BRAND')]</td>\n",
       "    </tr>\n",
       "    <tr>\n",
       "      <th>3</th>\n",
       "      <td>зерница</td>\n",
       "      <td>[(0, 7, 'B-TYPE')]</td>\n",
       "      <td>[(0, 7, 'B-BRAND')]</td>\n",
       "    </tr>\n",
       "    <tr>\n",
       "      <th>4</th>\n",
       "      <td>cerkizov</td>\n",
       "      <td>[(0, 8, 'O')]</td>\n",
       "      <td>[(0, 8, 'B-BRAND')]</td>\n",
       "    </tr>\n",
       "    <tr>\n",
       "      <th>...</th>\n",
       "      <td>...</td>\n",
       "      <td>...</td>\n",
       "      <td>...</td>\n",
       "    </tr>\n",
       "    <tr>\n",
       "      <th>510</th>\n",
       "      <td>sarm</td>\n",
       "      <td>[(0, 4, 'B-BRAND')]</td>\n",
       "      <td>[(0, 4, 'O')]</td>\n",
       "    </tr>\n",
       "    <tr>\n",
       "      <th>511</th>\n",
       "      <td>каша жидкая безмолочная</td>\n",
       "      <td>[(0, 4, 'B-TYPE'), (5, 11, 'O'), (12, 23, 'O')]</td>\n",
       "      <td>[(0, 4, 'B-TYPE'), (5, 11, 'I-TYPE'), (12, 23,...</td>\n",
       "    </tr>\n",
       "    <tr>\n",
       "      <th>512</th>\n",
       "      <td>кртки, вероки</td>\n",
       "      <td>[(0, 6, 'O'), (7, 13, 'O')]</td>\n",
       "      <td>[(0, 6, 'B-TYPE'), (7, 13, 'I-TYPE')]</td>\n",
       "    </tr>\n",
       "    <tr>\n",
       "      <th>513</th>\n",
       "      <td>ipa</td>\n",
       "      <td>[(0, 3, 'B-TYPE')]</td>\n",
       "      <td>[(0, 3, 'B-BRAND')]</td>\n",
       "    </tr>\n",
       "    <tr>\n",
       "      <th>514</th>\n",
       "      <td>конфеты карамель красная цена</td>\n",
       "      <td>[(0, 7, 'B-TYPE'), (8, 16, 'I-TYPE'), (17, 24,...</td>\n",
       "      <td>[(0, 7, 'B-TYPE'), (8, 16, 'B-BRAND'), (17, 24...</td>\n",
       "    </tr>\n",
       "  </tbody>\n",
       "</table>\n",
       "<p>515 rows × 3 columns</p>\n",
       "</div>"
      ],
      "text/plain": [
       "                            sample  \\\n",
       "0                           nasoic   \n",
       "1          молочный коктейль банан   \n",
       "2                          царские   \n",
       "3                          зерница   \n",
       "4                         cerkizov   \n",
       "..                             ...   \n",
       "510                           sarm   \n",
       "511        каша жидкая безмолочная   \n",
       "512                  кртки, вероки   \n",
       "513                            ipa   \n",
       "514  конфеты карамель красная цена   \n",
       "\n",
       "                                            annotation  \\\n",
       "0                                        [(0, 6, 'O')]   \n",
       "1    [(0, 8, 'B-TYPE'), (9, 17, 'I-TYPE'), (18, 23,...   \n",
       "2                                   [(0, 7, 'B-TYPE')]   \n",
       "3                                   [(0, 7, 'B-TYPE')]   \n",
       "4                                        [(0, 8, 'O')]   \n",
       "..                                                 ...   \n",
       "510                                [(0, 4, 'B-BRAND')]   \n",
       "511    [(0, 4, 'B-TYPE'), (5, 11, 'O'), (12, 23, 'O')]   \n",
       "512                        [(0, 6, 'O'), (7, 13, 'O')]   \n",
       "513                                 [(0, 3, 'B-TYPE')]   \n",
       "514  [(0, 7, 'B-TYPE'), (8, 16, 'I-TYPE'), (17, 24,...   \n",
       "\n",
       "                                                   ann  \n",
       "0                                  [(0, 6, 'B-BRAND')]  \n",
       "1    [(0, 8, 'B-TYPE'), (9, 17, 'I-TYPE'), (18, 23,...  \n",
       "2                                  [(0, 7, 'B-BRAND')]  \n",
       "3                                  [(0, 7, 'B-BRAND')]  \n",
       "4                                  [(0, 8, 'B-BRAND')]  \n",
       "..                                                 ...  \n",
       "510                                      [(0, 4, 'O')]  \n",
       "511  [(0, 4, 'B-TYPE'), (5, 11, 'I-TYPE'), (12, 23,...  \n",
       "512              [(0, 6, 'B-TYPE'), (7, 13, 'I-TYPE')]  \n",
       "513                                [(0, 3, 'B-BRAND')]  \n",
       "514  [(0, 7, 'B-TYPE'), (8, 16, 'B-BRAND'), (17, 24...  \n",
       "\n",
       "[515 rows x 3 columns]"
      ]
     },
     "execution_count": 3,
     "metadata": {},
     "output_type": "execute_result"
    }
   ],
   "source": [
    "df"
   ]
  },
  {
   "cell_type": "code",
   "execution_count": 5,
   "id": "3e1e7f15",
   "metadata": {},
   "outputs": [],
   "source": [
    "j = \"\"\"{\n",
    "        \"category\": {\n",
    "            \"id\": 282,\n",
    "            \"title\": \"\\u041e\\u0442 \\u041f\\u0435\\u0440\\u0435\\u043a\\u0440\\u0451\\u0441\\u0442\\u043a\\u0430\",\n",
    "            \"slug\": \"ot-perekrestka\",\n",
    "            \"parentId\": \"null\"\n",
    "        }\n",
    "}\"\"\""
   ]
  },
  {
   "cell_type": "code",
   "execution_count": 7,
   "id": "5ecabc37",
   "metadata": {},
   "outputs": [
    {
     "data": {
      "text/plain": [
       "{'id': 282,\n",
       " 'title': 'От Перекрёстка',\n",
       " 'slug': 'ot-perekrestka',\n",
       " 'parentId': 'null'}"
      ]
     },
     "execution_count": 7,
     "metadata": {},
     "output_type": "execute_result"
    }
   ],
   "source": [
    "json.loads(j)[\"category\"]"
   ]
  },
  {
   "cell_type": "code",
   "execution_count": 9,
   "id": "4e6f4437",
   "metadata": {},
   "outputs": [],
   "source": [
    "with open(\"/home/mikhail/Documents/Хакатоны/X5_ner_MiLky_way/parser/parse_perek_categories.json\", \"r\") as f:\n",
    "    cats = json.load(f)"
   ]
  },
  {
   "cell_type": "code",
   "execution_count": 10,
   "id": "a7c9e6b0",
   "metadata": {},
   "outputs": [
    {
     "data": {
      "text/plain": [
       "30"
      ]
     },
     "execution_count": 10,
     "metadata": {},
     "output_type": "execute_result"
    }
   ],
   "source": [
    "len(cats)"
   ]
  },
  {
   "cell_type": "code",
   "execution_count": 21,
   "id": "840291f1",
   "metadata": {},
   "outputs": [
    {
     "name": "stdout",
     "output_type": "stream",
     "text": [
      "113\n"
     ]
    }
   ],
   "source": [
    "for i in range(len(cats)):\n",
    "    if cats[i][\"category\"][\"title\"] == \"Молоко, сыр, яйца\":\n",
    "        print(cats[i][\"category\"][\"id\"])\n",
    "        break\n"
   ]
  },
  {
   "cell_type": "code",
   "execution_count": 14,
   "id": "4d3cd77e",
   "metadata": {},
   "outputs": [],
   "source": [
    "with open(\"/home/mikhail/Documents/Хакатоны/X5_ner_MiLky_way/parser/parse_perek_Готовая еда_items.json\", \"r\") as f:\n",
    "    items = json.load(f)"
   ]
  },
  {
   "cell_type": "code",
   "execution_count": 15,
   "id": "4bbfba23",
   "metadata": {},
   "outputs": [
    {
     "data": {
      "text/plain": [
       "100"
      ]
     },
     "execution_count": 15,
     "metadata": {},
     "output_type": "execute_result"
    }
   ],
   "source": [
    "len(items)"
   ]
  },
  {
   "cell_type": "code",
   "execution_count": null,
   "id": "d90a263d",
   "metadata": {},
   "outputs": [],
   "source": [
    "from perekrestok_api import PerekrestokAPI\n",
    "from perekrestok_api import abstraction"
   ]
  },
  {
   "cell_type": "code",
   "execution_count": 18,
   "id": "1b799053",
   "metadata": {},
   "outputs": [],
   "source": [
    "def main():\n",
    "    with PerekrestokAPI() as Api:\n",
    "        geopos_handler = Api.Geolocation.current()\n",
    "        geopos = geopos_handler.json()\n",
    "        print(f'Текущий город сессии {geopos[\"content\"][\"city\"][\"name\"]} ({geopos[\"content\"][\"city\"][\"id\"]})')\n",
    "\n",
    "        # Получаем список категорий\n",
    "        categories = Api.Catalog.tree()\n",
    "        cat = categories.json()\n",
    "        print(f'Список категорий: {len(cat[\"content\"][\"items\"])}')\n",
    "        with open('./parser/parse_perek_categories.json', 'w+', encoding=\"utf-8\") as f:\n",
    "            json.dump(cat[\"content\"][\"items\"], f, indent=4, ensure_ascii=False) \n",
    "\n",
    "        # Выводим первую категорию\n",
    "        cat_name = cat[\"content\"][\"items\"][1][\"category\"][\"title\"]\n",
    "        cat_id = cat[\"content\"][\"items\"][1][\"category\"][\"id\"]\n",
    "        print(f'Категория: {cat_name}, id: ({cat_id})')\n",
    "\n",
    "        filter = abstraction.CatalogFeedFilter()\n",
    "        filter.CATEGORY_ID = cat_id\n",
    "        products = Api.Catalog.feed(filter=filter, page=1)\n",
    "        response_items = products.json()\n",
    "\n",
    "        with open(f'./parser/parse_perek_test_full_response.json', 'w+', encoding=\"utf-8\") as f:\n",
    "            json.dump(response_items, f, indent=4, ensure_ascii=False) "
   ]
  },
  {
   "cell_type": "code",
   "execution_count": 25,
   "id": "3a07172b",
   "metadata": {},
   "outputs": [],
   "source": [
    "df = pd.read_csv('../data/train.csv', sep=\";\")"
   ]
  },
  {
   "cell_type": "code",
   "execution_count": 28,
   "id": "9d293a15",
   "metadata": {},
   "outputs": [],
   "source": [
    "df[['sample']].to_csv('../data/train_only_sample.csv', index=False)"
   ]
  },
  {
   "cell_type": "markdown",
   "id": "1820ece7",
   "metadata": {},
   "source": [
    "## изучаем пятерочку"
   ]
  },
  {
   "cell_type": "code",
   "execution_count": 5,
   "id": "dd6ab29d",
   "metadata": {},
   "outputs": [],
   "source": [
    "with open(\"/home/mikhail/Documents/Хакатоны/X5_ner_MiLky_way/parser/5ka_catalog.json\") as f:\n",
    "    catalog = json.load(f)"
   ]
  },
  {
   "cell_type": "code",
   "execution_count": 6,
   "id": "3bd97225",
   "metadata": {},
   "outputs": [
    {
     "data": {
      "text/plain": [
       "18"
      ]
     },
     "execution_count": 6,
     "metadata": {},
     "output_type": "execute_result"
    }
   ],
   "source": [
    "len(catalog)"
   ]
  },
  {
   "cell_type": "code",
   "execution_count": 13,
   "id": "1d63d501",
   "metadata": {},
   "outputs": [
    {
     "data": {
      "text/plain": [
       "['Овощи, зелень, грибы', 'Фрукты, ягоды', 'Орехи, сухофрукты']"
      ]
     },
     "execution_count": 13,
     "metadata": {},
     "output_type": "execute_result"
    }
   ],
   "source": [
    "[cat['name'] for cat in catalog[2]['categories']]"
   ]
  },
  {
   "cell_type": "code",
   "execution_count": 9,
   "id": "c476caf2",
   "metadata": {},
   "outputs": [
    {
     "data": {
      "text/plain": [
       "6"
      ]
     },
     "execution_count": 9,
     "metadata": {},
     "output_type": "execute_result"
    }
   ],
   "source": [
    "len(catalog[11]['categories'])"
   ]
  },
  {
   "cell_type": "code",
   "execution_count": 11,
   "id": "42ef02cf",
   "metadata": {},
   "outputs": [
    {
     "data": {
      "text/plain": [
       "{'id': '251C13043',\n",
       " 'name': 'Газировка',\n",
       " 'advert': None,\n",
       " 'image_link': 'https://catalog-images.x5static.net/category/251C13043-icon-fivedelivery_a64e4d5a2818cc5f973fc74ea9c67bc0/345x345.png',\n",
       " 'gradient_start': '#C9EEFE',\n",
       " 'gradient_end': '#C9EEFE',\n",
       " 'title_color': '#302E33',\n",
       " 'additional_icons': [{'type': 'extended',\n",
       "   'url': 'https://catalog-images.x5static.net/category/251C13043-additional-extended-fivedelivery_5a883d9d57bb156ff8fd94ea6bb28c98/312x348.png'},\n",
       "  {'type': 'search_tree',\n",
       "   'url': 'https://catalog-images.x5static.net/category/251C13043-additional-search-tree-fivedelivery_05359c735bc1bf7afb8b55c5706b89ab/144x144.png'}]}"
      ]
     },
     "execution_count": 11,
     "metadata": {},
     "output_type": "execute_result"
    }
   ],
   "source": [
    "catalog[11]['categories'][1]"
   ]
  },
  {
   "cell_type": "code",
   "execution_count": 12,
   "id": "a655ddc2",
   "metadata": {},
   "outputs": [],
   "source": [
    "with open(\"/home/mikhail/Documents/Хакатоны/X5_ner_MiLky_way/parser/5ka_items_parsed.json\") as f:\n",
    "    items = json.load(f)"
   ]
  },
  {
   "cell_type": "code",
   "execution_count": 31,
   "id": "94a5be93",
   "metadata": {},
   "outputs": [
    {
     "data": {
      "text/plain": [
       "['Черноголовка', 'Добрый']"
      ]
     },
     "execution_count": 31,
     "metadata": {},
     "output_type": "execute_result"
    }
   ],
   "source": [
    "items['filters'][1]['list_values']['all'][:2]"
   ]
  },
  {
   "cell_type": "code",
   "execution_count": 33,
   "id": "c0f4a93c",
   "metadata": {},
   "outputs": [
    {
     "data": {
      "text/plain": [
       "{'plu': 1863,\n",
       " 'name': 'Напиток Coca-Cola Classic 0.33л',\n",
       " 'image_links': {'small': ['https://catalog-images.x5static.net/product/1157129-main/320x320.jpeg?updated_at=2025-02-14T15:15:56.083Z'],\n",
       "  'normal': ['https://catalog-images.x5static.net/product/1157129-main/800x800.jpeg?updated_at=2025-02-14T15:15:56.083Z']},\n",
       " 'uom': 'шт',\n",
       " 'step': '1.0',\n",
       " 'rating': {'rating_average': 4.84, 'rates_count': 5698},\n",
       " 'promo': None,\n",
       " 'prices': {'regular': '129.99', 'discount': None, 'cpd_promo_price': None},\n",
       " 'labels': None,\n",
       " 'property_clarification': '330 мл',\n",
       " 'has_age_restriction': False,\n",
       " 'stock_limit': None,\n",
       " 'badges': [],\n",
       " 'initial_weight_step': '1.0',\n",
       " 'min_weight': '1.0',\n",
       " 'orange_loyalty_points': 70,\n",
       " 'is_available': True,\n",
       " 'price_piece_unit': None}"
      ]
     },
     "execution_count": 33,
     "metadata": {},
     "output_type": "execute_result"
    }
   ],
   "source": [
    "items['products'][0]"
   ]
  },
  {
   "cell_type": "code",
   "execution_count": null,
   "id": "a48ce18b",
   "metadata": {},
   "outputs": [],
   "source": []
  }
 ],
 "metadata": {
  "kernelspec": {
   "display_name": ".venv",
   "language": "python",
   "name": "python3"
  },
  "language_info": {
   "codemirror_mode": {
    "name": "ipython",
    "version": 3
   },
   "file_extension": ".py",
   "mimetype": "text/x-python",
   "name": "python",
   "nbconvert_exporter": "python",
   "pygments_lexer": "ipython3",
   "version": "3.12.11"
  }
 },
 "nbformat": 4,
 "nbformat_minor": 5
}
