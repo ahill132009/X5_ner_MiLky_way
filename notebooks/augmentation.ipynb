{
 "cells": [
  {
   "cell_type": "code",
   "id": "initial_id",
   "metadata": {
    "collapsed": true,
    "ExecuteTime": {
     "end_time": "2025-09-23T16:50:14.771699Z",
     "start_time": "2025-09-23T16:50:13.910397Z"
    }
   },
   "source": [
    "import pandas as pd\n",
    "\n",
    "from X5_ner_MiLky_way.models.naiv_replace.replace_metod import annotation\n",
    "from sqlalchemy.dialects.mssql.information_schema import columns"
   ],
   "outputs": [],
   "execution_count": 1
  },
  {
   "metadata": {
    "ExecuteTime": {
     "end_time": "2025-09-23T16:51:22.526198Z",
     "start_time": "2025-09-23T16:51:22.466144Z"
    }
   },
   "cell_type": "code",
   "source": [
    "# ТУТ замени\n",
    "train_path = '/Users/egorbykov/Desktop/Работа/2025/hackatons/mos/X5_ner_MiLky_way/data/Датасет/train.csv'\n",
    "\n",
    "data = pd.read_csv(train_path, sep = ';')"
   ],
   "id": "89064e596fed874",
   "outputs": [],
   "execution_count": 2
  },
  {
   "metadata": {
    "ExecuteTime": {
     "end_time": "2025-09-23T16:51:35.179901Z",
     "start_time": "2025-09-23T16:51:35.164612Z"
    }
   },
   "cell_type": "code",
   "source": "data",
   "id": "901314268a1215db",
   "outputs": [
    {
     "data": {
      "text/plain": [
       "            sample                              annotation\n",
       "0               aa                           [(0, 2, 'O')]\n",
       "1             aala                           [(0, 4, 'O')]\n",
       "2           aarcca                           [(0, 6, 'O')]\n",
       "3             abon                           [(0, 4, 'O')]\n",
       "4             abso                     [(0, 4, 'B-BRAND')]\n",
       "...            ...                                     ...\n",
       "27246   №1 кофейни  [(0, 2, 'B-BRAND'), (3, 10, 'B-TYPE')]\n",
       "27247  №1 кофейник  [(0, 2, 'B-BRAND'), (3, 11, 'B-TYPE')]\n",
       "27248      №1 пиво   [(0, 2, 'B-BRAND'), (3, 7, 'B-TYPE')]\n",
       "27249        №1 са   [(0, 2, 'B-BRAND'), (3, 5, 'B-TYPE')]\n",
       "27250       №1 саш   [(0, 2, 'B-BRAND'), (3, 6, 'B-TYPE')]\n",
       "\n",
       "[27251 rows x 2 columns]"
      ],
      "text/html": [
       "<div>\n",
       "<style scoped>\n",
       "    .dataframe tbody tr th:only-of-type {\n",
       "        vertical-align: middle;\n",
       "    }\n",
       "\n",
       "    .dataframe tbody tr th {\n",
       "        vertical-align: top;\n",
       "    }\n",
       "\n",
       "    .dataframe thead th {\n",
       "        text-align: right;\n",
       "    }\n",
       "</style>\n",
       "<table border=\"1\" class=\"dataframe\">\n",
       "  <thead>\n",
       "    <tr style=\"text-align: right;\">\n",
       "      <th></th>\n",
       "      <th>sample</th>\n",
       "      <th>annotation</th>\n",
       "    </tr>\n",
       "  </thead>\n",
       "  <tbody>\n",
       "    <tr>\n",
       "      <th>0</th>\n",
       "      <td>aa</td>\n",
       "      <td>[(0, 2, 'O')]</td>\n",
       "    </tr>\n",
       "    <tr>\n",
       "      <th>1</th>\n",
       "      <td>aala</td>\n",
       "      <td>[(0, 4, 'O')]</td>\n",
       "    </tr>\n",
       "    <tr>\n",
       "      <th>2</th>\n",
       "      <td>aarcca</td>\n",
       "      <td>[(0, 6, 'O')]</td>\n",
       "    </tr>\n",
       "    <tr>\n",
       "      <th>3</th>\n",
       "      <td>abon</td>\n",
       "      <td>[(0, 4, 'O')]</td>\n",
       "    </tr>\n",
       "    <tr>\n",
       "      <th>4</th>\n",
       "      <td>abso</td>\n",
       "      <td>[(0, 4, 'B-BRAND')]</td>\n",
       "    </tr>\n",
       "    <tr>\n",
       "      <th>...</th>\n",
       "      <td>...</td>\n",
       "      <td>...</td>\n",
       "    </tr>\n",
       "    <tr>\n",
       "      <th>27246</th>\n",
       "      <td>№1 кофейни</td>\n",
       "      <td>[(0, 2, 'B-BRAND'), (3, 10, 'B-TYPE')]</td>\n",
       "    </tr>\n",
       "    <tr>\n",
       "      <th>27247</th>\n",
       "      <td>№1 кофейник</td>\n",
       "      <td>[(0, 2, 'B-BRAND'), (3, 11, 'B-TYPE')]</td>\n",
       "    </tr>\n",
       "    <tr>\n",
       "      <th>27248</th>\n",
       "      <td>№1 пиво</td>\n",
       "      <td>[(0, 2, 'B-BRAND'), (3, 7, 'B-TYPE')]</td>\n",
       "    </tr>\n",
       "    <tr>\n",
       "      <th>27249</th>\n",
       "      <td>№1 са</td>\n",
       "      <td>[(0, 2, 'B-BRAND'), (3, 5, 'B-TYPE')]</td>\n",
       "    </tr>\n",
       "    <tr>\n",
       "      <th>27250</th>\n",
       "      <td>№1 саш</td>\n",
       "      <td>[(0, 2, 'B-BRAND'), (3, 6, 'B-TYPE')]</td>\n",
       "    </tr>\n",
       "  </tbody>\n",
       "</table>\n",
       "<p>27251 rows × 2 columns</p>\n",
       "</div>"
      ]
     },
     "execution_count": 4,
     "metadata": {},
     "output_type": "execute_result"
    }
   ],
   "execution_count": 4
  },
  {
   "metadata": {
    "ExecuteTime": {
     "end_time": "2025-09-23T16:54:04.893551Z",
     "start_time": "2025-09-23T16:54:04.884904Z"
    }
   },
   "cell_type": "code",
   "source": [
    "import sys\n",
    "sys.path.append('../src')"
   ],
   "id": "10cd4275c60598b7",
   "outputs": [],
   "execution_count": 8
  },
  {
   "metadata": {
    "ExecuteTime": {
     "end_time": "2025-09-23T16:59:03.704817Z",
     "start_time": "2025-09-23T16:59:03.697298Z"
    }
   },
   "cell_type": "code",
   "source": "from text_augmentation import augment_text, add_typos, add_truncation, add_mid_deletion",
   "id": "d887c128a6da99b7",
   "outputs": [],
   "execution_count": 19
  },
  {
   "metadata": {
    "ExecuteTime": {
     "end_time": "2025-09-23T16:58:45.318824Z",
     "start_time": "2025-09-23T16:58:45.230815Z"
    }
   },
   "cell_type": "code",
   "source": "data['text_with_typos'] = data['sample'].apply(lambda x: add_typos(x, typo_prob=0.15, max_typos_per_word=2))",
   "id": "78af6f9ab6c9a9b0",
   "outputs": [],
   "execution_count": 18
  },
  {
   "metadata": {
    "ExecuteTime": {
     "end_time": "2025-09-23T16:59:35.765481Z",
     "start_time": "2025-09-23T16:59:35.720112Z"
    }
   },
   "cell_type": "code",
   "source": "data['text_with_truncation'] = data['sample'].apply(lambda x: add_truncation(x, trunc_prob=0.15, max_truncated_chars = 2))",
   "id": "9898e56ce271d859",
   "outputs": [],
   "execution_count": 21
  },
  {
   "metadata": {
    "ExecuteTime": {
     "end_time": "2025-09-23T17:00:00.827055Z",
     "start_time": "2025-09-23T17:00:00.638327Z"
    }
   },
   "cell_type": "code",
   "source": "data['text_mid_deletion'] = data['sample'].apply(lambda x: add_mid_deletion(x, deletion_prob=0.15, max_deletions_per_word = 2))",
   "id": "1266af3a534b0ebb",
   "outputs": [],
   "execution_count": 22
  },
  {
   "metadata": {
    "ExecuteTime": {
     "end_time": "2025-09-23T17:02:59.746685Z",
     "start_time": "2025-09-23T17:02:59.730605Z"
    }
   },
   "cell_type": "code",
   "source": "data",
   "id": "3452e6072845c11d",
   "outputs": [
    {
     "data": {
      "text/plain": [
       "            sample                              annotation text_with_typos  \\\n",
       "0               aa                           [(0, 2, 'O')]              aa   \n",
       "1             aala                           [(0, 4, 'O')]            aala   \n",
       "2           aarcca                           [(0, 6, 'O')]          aarcca   \n",
       "3             abon                           [(0, 4, 'O')]            abon   \n",
       "4             abso                     [(0, 4, 'B-BRAND')]            abso   \n",
       "...            ...                                     ...             ...   \n",
       "27246   №1 кофейни  [(0, 2, 'B-BRAND'), (3, 10, 'B-TYPE')]      №1 кофейни   \n",
       "27247  №1 кофейник  [(0, 2, 'B-BRAND'), (3, 11, 'B-TYPE')]     №1 клфейник   \n",
       "27248      №1 пиво   [(0, 2, 'B-BRAND'), (3, 7, 'B-TYPE')]         №1 пьво   \n",
       "27249        №1 са   [(0, 2, 'B-BRAND'), (3, 5, 'B-TYPE')]           №1 са   \n",
       "27250       №1 саш   [(0, 2, 'B-BRAND'), (3, 6, 'B-TYPE')]          №1 чаш   \n",
       "\n",
       "      text_with_truncation text_mid_deletion  \n",
       "0                       aa                aa  \n",
       "1                     aala              aala  \n",
       "2                   aarcca              arca  \n",
       "3                     abon               aon  \n",
       "4                     abso               abo  \n",
       "...                    ...               ...  \n",
       "27246           №1 кофейни          №1 кфейи  \n",
       "27247          №1 кофейник         №1 кфейик  \n",
       "27248              №1 пиво            №1 пво  \n",
       "27249                №1 са             №1 са  \n",
       "27250               №1 саш            №1 саш  \n",
       "\n",
       "[27251 rows x 5 columns]"
      ],
      "text/html": [
       "<div>\n",
       "<style scoped>\n",
       "    .dataframe tbody tr th:only-of-type {\n",
       "        vertical-align: middle;\n",
       "    }\n",
       "\n",
       "    .dataframe tbody tr th {\n",
       "        vertical-align: top;\n",
       "    }\n",
       "\n",
       "    .dataframe thead th {\n",
       "        text-align: right;\n",
       "    }\n",
       "</style>\n",
       "<table border=\"1\" class=\"dataframe\">\n",
       "  <thead>\n",
       "    <tr style=\"text-align: right;\">\n",
       "      <th></th>\n",
       "      <th>sample</th>\n",
       "      <th>annotation</th>\n",
       "      <th>text_with_typos</th>\n",
       "      <th>text_with_truncation</th>\n",
       "      <th>text_mid_deletion</th>\n",
       "    </tr>\n",
       "  </thead>\n",
       "  <tbody>\n",
       "    <tr>\n",
       "      <th>0</th>\n",
       "      <td>aa</td>\n",
       "      <td>[(0, 2, 'O')]</td>\n",
       "      <td>aa</td>\n",
       "      <td>aa</td>\n",
       "      <td>aa</td>\n",
       "    </tr>\n",
       "    <tr>\n",
       "      <th>1</th>\n",
       "      <td>aala</td>\n",
       "      <td>[(0, 4, 'O')]</td>\n",
       "      <td>aala</td>\n",
       "      <td>aala</td>\n",
       "      <td>aala</td>\n",
       "    </tr>\n",
       "    <tr>\n",
       "      <th>2</th>\n",
       "      <td>aarcca</td>\n",
       "      <td>[(0, 6, 'O')]</td>\n",
       "      <td>aarcca</td>\n",
       "      <td>aarcca</td>\n",
       "      <td>arca</td>\n",
       "    </tr>\n",
       "    <tr>\n",
       "      <th>3</th>\n",
       "      <td>abon</td>\n",
       "      <td>[(0, 4, 'O')]</td>\n",
       "      <td>abon</td>\n",
       "      <td>abon</td>\n",
       "      <td>aon</td>\n",
       "    </tr>\n",
       "    <tr>\n",
       "      <th>4</th>\n",
       "      <td>abso</td>\n",
       "      <td>[(0, 4, 'B-BRAND')]</td>\n",
       "      <td>abso</td>\n",
       "      <td>abso</td>\n",
       "      <td>abo</td>\n",
       "    </tr>\n",
       "    <tr>\n",
       "      <th>...</th>\n",
       "      <td>...</td>\n",
       "      <td>...</td>\n",
       "      <td>...</td>\n",
       "      <td>...</td>\n",
       "      <td>...</td>\n",
       "    </tr>\n",
       "    <tr>\n",
       "      <th>27246</th>\n",
       "      <td>№1 кофейни</td>\n",
       "      <td>[(0, 2, 'B-BRAND'), (3, 10, 'B-TYPE')]</td>\n",
       "      <td>№1 кофейни</td>\n",
       "      <td>№1 кофейни</td>\n",
       "      <td>№1 кфейи</td>\n",
       "    </tr>\n",
       "    <tr>\n",
       "      <th>27247</th>\n",
       "      <td>№1 кофейник</td>\n",
       "      <td>[(0, 2, 'B-BRAND'), (3, 11, 'B-TYPE')]</td>\n",
       "      <td>№1 клфейник</td>\n",
       "      <td>№1 кофейник</td>\n",
       "      <td>№1 кфейик</td>\n",
       "    </tr>\n",
       "    <tr>\n",
       "      <th>27248</th>\n",
       "      <td>№1 пиво</td>\n",
       "      <td>[(0, 2, 'B-BRAND'), (3, 7, 'B-TYPE')]</td>\n",
       "      <td>№1 пьво</td>\n",
       "      <td>№1 пиво</td>\n",
       "      <td>№1 пво</td>\n",
       "    </tr>\n",
       "    <tr>\n",
       "      <th>27249</th>\n",
       "      <td>№1 са</td>\n",
       "      <td>[(0, 2, 'B-BRAND'), (3, 5, 'B-TYPE')]</td>\n",
       "      <td>№1 са</td>\n",
       "      <td>№1 са</td>\n",
       "      <td>№1 са</td>\n",
       "    </tr>\n",
       "    <tr>\n",
       "      <th>27250</th>\n",
       "      <td>№1 саш</td>\n",
       "      <td>[(0, 2, 'B-BRAND'), (3, 6, 'B-TYPE')]</td>\n",
       "      <td>№1 чаш</td>\n",
       "      <td>№1 саш</td>\n",
       "      <td>№1 саш</td>\n",
       "    </tr>\n",
       "  </tbody>\n",
       "</table>\n",
       "<p>27251 rows × 5 columns</p>\n",
       "</div>"
      ]
     },
     "execution_count": 29,
     "metadata": {},
     "output_type": "execute_result"
    }
   ],
   "execution_count": 29
  },
  {
   "metadata": {
    "ExecuteTime": {
     "end_time": "2025-09-23T17:03:52.140787Z",
     "start_time": "2025-09-23T17:03:52.093285Z"
    }
   },
   "cell_type": "code",
   "source": "sample = pd.concat([data['sample'], data['text_with_typos'], data['text_with_truncation'], data['text_mid_deletion']], axis = 0)",
   "id": "cc070324337c4e7a",
   "outputs": [],
   "execution_count": 32
  },
  {
   "metadata": {
    "ExecuteTime": {
     "end_time": "2025-09-23T17:04:00.884966Z",
     "start_time": "2025-09-23T17:04:00.865602Z"
    }
   },
   "cell_type": "code",
   "source": "annotation = pd.concat([data['annotation'], data['annotation'], data['annotation'], data['annotation']], axis = 0)",
   "id": "c35de6e79ac84b8a",
   "outputs": [],
   "execution_count": 33
  },
  {
   "metadata": {
    "ExecuteTime": {
     "end_time": "2025-09-23T17:04:33.409390Z",
     "start_time": "2025-09-23T17:04:33.402158Z"
    }
   },
   "cell_type": "code",
   "source": "data.columns",
   "id": "439488cc2539c2a6",
   "outputs": [
    {
     "data": {
      "text/plain": [
       "Index(['sample', 'annotation', 'text_with_typos', 'text_with_truncation',\n",
       "       'text_mid_deletion'],\n",
       "      dtype='object')"
      ]
     },
     "execution_count": 34,
     "metadata": {},
     "output_type": "execute_result"
    }
   ],
   "execution_count": 34
  },
  {
   "metadata": {
    "ExecuteTime": {
     "end_time": "2025-09-23T17:05:30.651392Z",
     "start_time": "2025-09-23T17:05:30.606554Z"
    }
   },
   "cell_type": "code",
   "source": "new_dataset = pd.concat([sample, annotation], axis = 1)",
   "id": "f324c9be7efd6350",
   "outputs": [],
   "execution_count": 42
  },
  {
   "metadata": {
    "ExecuteTime": {
     "end_time": "2025-09-23T17:05:37.638398Z",
     "start_time": "2025-09-23T17:05:37.624058Z"
    }
   },
   "cell_type": "code",
   "source": "new_dataset.columns =  ['sample', 'annotation']",
   "id": "1ebbf11428e62c41",
   "outputs": [],
   "execution_count": 44
  },
  {
   "metadata": {
    "ExecuteTime": {
     "end_time": "2025-09-23T17:06:07.081597Z",
     "start_time": "2025-09-23T17:06:07.042886Z"
    }
   },
   "cell_type": "code",
   "source": "new_dataset = new_dataset.drop_duplicates()",
   "id": "e0d4bb51e0e99b05",
   "outputs": [],
   "execution_count": 46
  },
  {
   "metadata": {
    "ExecuteTime": {
     "end_time": "2025-09-23T17:07:06.379632Z",
     "start_time": "2025-09-23T17:07:06.298299Z"
    }
   },
   "cell_type": "code",
   "source": "new_dataset.to_csv('../data/Датасет/train_augmentayion.csv', index = False, sep = ';')",
   "id": "3b2d9242fd543910",
   "outputs": [],
   "execution_count": 49
  }
 ],
 "metadata": {
  "kernelspec": {
   "display_name": "Python 3",
   "language": "python",
   "name": "python3"
  },
  "language_info": {
   "codemirror_mode": {
    "name": "ipython",
    "version": 2
   },
   "file_extension": ".py",
   "mimetype": "text/x-python",
   "name": "python",
   "nbconvert_exporter": "python",
   "pygments_lexer": "ipython2",
   "version": "2.7.6"
  }
 },
 "nbformat": 4,
 "nbformat_minor": 5
}
