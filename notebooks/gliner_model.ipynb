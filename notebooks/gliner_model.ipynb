{
 "cells": [
  {
   "cell_type": "code",
   "execution_count": 1,
   "id": "c8d6c2df",
   "metadata": {},
   "outputs": [
    {
     "name": "stderr",
     "output_type": "stream",
     "text": [
      "/home/mikhail/Documents/Хакатоны/X5_ner_MiLky_way/.venv/lib/python3.12/site-packages/tqdm/auto.py:21: TqdmWarning: IProgress not found. Please update jupyter and ipywidgets. See https://ipywidgets.readthedocs.io/en/stable/user_install.html\n",
      "  from .autonotebook import tqdm as notebook_tqdm\n"
     ]
    }
   ],
   "source": [
    "import pandas as pd\n",
    "import re\n",
    "from pyaspeller import Word\n",
    "from spellchecker import SpellChecker\n",
    "from tqdm import tqdm\n",
    "from gliner import GLiNER\n"
   ]
  },
  {
   "cell_type": "code",
   "execution_count": 2,
   "id": "9399af83",
   "metadata": {},
   "outputs": [
    {
     "name": "stderr",
     "output_type": "stream",
     "text": [
      "Fetching 4 files: 100%|██████████| 4/4 [00:00<00:00, 1937.99it/s]\n",
      "/home/mikhail/Documents/Хакатоны/X5_ner_MiLky_way/.venv/lib/python3.12/site-packages/transformers/convert_slow_tokenizer.py:559: UserWarning: The sentencepiece tokenizer that you are converting to a fast tokenizer uses the byte fallback option which is not implemented in the fast tokenizers. In practice this means that the fast version of the tokenizer can produce unknown tokens whereas the sentencepiece version would have converted these unknown tokens into a sequence of byte tokens matching the original piece of text.\n",
      "  warnings.warn(\n"
     ]
    }
   ],
   "source": [
    "model = GLiNER.from_pretrained(\"urchade/gliner_multi-v2.1\", model_kwargs={'tokenizer': 'spacy'})"
   ]
  },
  {
   "cell_type": "code",
   "execution_count": 3,
   "id": "91c4010b",
   "metadata": {},
   "outputs": [
    {
     "name": "stderr",
     "output_type": "stream",
     "text": [
      "\u001b[0;93m2025-09-21 00:31:23.275060476 [W:onnxruntime:, constant_folding.cc:278 ApplyImpl] Could not find a CPU kernel and hence can't constant fold ReduceMean node '/token_rep_layer/bert_layer/model/encoder/LayerNorm/ReduceMean'\u001b[m\n",
      "\u001b[0;93m2025-09-21 00:31:23.412819234 [W:onnxruntime:, constant_folding.cc:278 ApplyImpl] Could not find a CPU kernel and hence can't constant fold ReduceMean node '/token_rep_layer/bert_layer/model/encoder/LayerNorm/ReduceMean'\u001b[m\n",
      "\u001b[0;93m2025-09-21 00:31:23.424090959 [W:onnxruntime:, constant_folding.cc:278 ApplyImpl] Could not find a CPU kernel and hence can't constant fold ReduceMean node '/token_rep_layer/bert_layer/model/encoder/LayerNorm/ReduceMean'\u001b[m\n"
     ]
    }
   ],
   "source": [
    "model = GLiNER.from_pretrained(\"/home/mikhail/Documents/Хакатоны/X5_ner_MiLky_way/models/Gliner_multi\", \n",
    "                               load_onnx_model=True, \n",
    "                               load_tokenizer=True, \n",
    "                               onnx_model_file=\"onnx/model_q4f16.onnx\",\n",
    "                               model_kwargs={'tokenizer': 'spacy'})"
   ]
  },
  {
   "cell_type": "code",
   "execution_count": 17,
   "id": "bd3cb882",
   "metadata": {},
   "outputs": [
    {
     "name": "stderr",
     "output_type": "stream",
     "text": [
      "\u001b[0;93m2025-09-20 23:33:55.406200966 [W:onnxruntime:, constant_folding.cc:278 ApplyImpl] Could not find a CPU kernel and hence can't constant fold ReduceMean node '/token_rep_layer/bert_layer/model/encoder/LayerNorm/ReduceMean'\u001b[m\n",
      "\u001b[0;93m2025-09-20 23:33:55.565176274 [W:onnxruntime:, constant_folding.cc:278 ApplyImpl] Could not find a CPU kernel and hence can't constant fold ReduceMean node '/token_rep_layer/bert_layer/model/encoder/LayerNorm/ReduceMean'\u001b[m\n",
      "\u001b[0;93m2025-09-20 23:33:55.579880579 [W:onnxruntime:, constant_folding.cc:278 ApplyImpl] Could not find a CPU kernel and hence can't constant fold ReduceMean node '/token_rep_layer/bert_layer/model/encoder/LayerNorm/ReduceMean'\u001b[m\n"
     ]
    }
   ],
   "source": [
    "import numpy as np\n",
    "import onnxruntime as ort\n",
    "\n",
    "# Load session (choose providers if you want GPU)\n",
    "session = ort.InferenceSession(\"/home/mikhail/Documents/Хакатоны/X5_ner_MiLky_way/data/onnx/model_fp16.onnx\", providers=[\"CPUExecutionProvider\"])"
   ]
  },
  {
   "cell_type": "markdown",
   "id": "28399a65",
   "metadata": {},
   "source": [
    "## data"
   ]
  },
  {
   "cell_type": "code",
   "execution_count": 3,
   "id": "47d71fea",
   "metadata": {},
   "outputs": [],
   "source": [
    "df_test = pd.read_csv('../data/submission.csv', sep=';')"
   ]
  },
  {
   "cell_type": "code",
   "execution_count": 4,
   "id": "bd23ad9c",
   "metadata": {},
   "outputs": [
    {
     "data": {
      "application/vnd.microsoft.datawrangler.viewer.v0+json": {
       "columns": [
        {
         "name": "index",
         "rawType": "int64",
         "type": "integer"
        },
        {
         "name": "sample",
         "rawType": "object",
         "type": "string"
        },
        {
         "name": "annotation",
         "rawType": "object",
         "type": "string"
        }
       ],
       "ref": "12c90bce-d9d0-4248-8727-a26f1384075e",
       "rows": [
        [
         "0",
         "форма для выпечки",
         "[(0, 5, 'B-TYPE'), (6, 9, 'I-TYPE'), (10, 17, 'I-TYPE')]"
        ],
        [
         "1",
         "фарш свиной",
         "[(0, 4, 'B-TYPE'), (5, 11, 'I-TYPE')]"
        ],
        [
         "2",
         "сок ананасовый без сахара",
         "[(0, 3, 'B-TYPE'), (4, 14, 'I-TYPE'), (15, 18, 'I-TYPE'), (19, 25, 'I-TYPE')]"
        ],
        [
         "3",
         "еринги",
         "[(0, 6, 'B-TYPE')]"
        ],
        [
         "4",
         "молооко",
         "[(0, 7, 'B-TYPE')]"
        ],
        [
         "5",
         "поролок",
         "[(0, 7, 'B-TYPE')]"
        ],
        [
         "6",
         "свмнина",
         "[(0, 7, 'B-TYPE')]"
        ],
        [
         "7",
         "припрааа для рыбы",
         "[(0, 8, 'B-TYPE'), (9, 12, 'I-TYPE'), (13, 17, 'I-TYPE')]"
        ],
        [
         "8",
         "сулугцн",
         "[(0, 7, 'B-TYPE')]"
        ],
        [
         "9",
         "mitti",
         "[(0, 5, 'B-BRAND')]"
        ],
        [
         "10",
         "пастеризованна",
         "[(0, 14, 'B-TYPE')]"
        ],
        [
         "11",
         "полуфабрикаиы",
         "[(0, 13, 'B-TYPE')]"
        ],
        [
         "12",
         "семена экон",
         "[(0, 6, 'B-TYPE'), (7, 11, 'I-TYPE')]"
        ],
        [
         "13",
         "соус по грузински",
         "[(0, 4, 'B-TYPE'), (5, 7, 'I-TYPE'), (8, 17, 'I-TYPE')]"
        ],
        [
         "14",
         "то матная паста",
         "[(0, 2, 'B-TYPE'), (3, 9, 'I-TYPE'), (10, 15, 'I-TYPE')]"
        ],
        [
         "15",
         "фаворит",
         "[(0, 7, 'B-TYPE')]"
        ],
        [
         "16",
         "ополаскиватель. для белья",
         "[(0, 15, 'B-TYPE'), (16, 19, 'I-TYPE'), (20, 25, 'I-TYPE')]"
        ],
        [
         "17",
         "сливкп",
         "[(0, 6, 'B-TYPE')]"
        ],
        [
         "18",
         "бамбу",
         "[(0, 5, 'B-TYPE')]"
        ],
        [
         "19",
         "nishoom",
         "[(0, 7, 'B-BRAND')]"
        ],
        [
         "20",
         "семушка орех",
         "[(0, 7, 'B-TYPE'), (8, 12, 'I-TYPE')]"
        ],
        [
         "21",
         "немолоко",
         "[(0, 8, 'B-TYPE')]"
        ],
        [
         "22",
         "прочий чай",
         "[(0, 6, 'B-TYPE'), (7, 10, 'I-TYPE')]"
        ],
        [
         "23",
         "сейчас мантел",
         "[(0, 6, 'B-TYPE'), (7, 13, 'I-TYPE')]"
        ],
        [
         "24",
         "петмол",
         "[(0, 6, 'B-TYPE')]"
        ],
        [
         "25",
         "сырокопчёная",
         "[(0, 12, 'B-TYPE')]"
        ],
        [
         "26",
         "chco",
         "[(0, 4, 'B-BRAND')]"
        ],
        [
         "27",
         "сосиски желе",
         "[(0, 7, 'B-TYPE'), (8, 12, 'I-TYPE')]"
        ],
        [
         "28",
         "гречкан",
         "[(0, 7, 'B-TYPE')]"
        ],
        [
         "29",
         "cheese",
         "[(0, 6, 'B-BRAND')]"
        ],
        [
         "30",
         "dr.oetker ванильны",
         "[(0, 9, 'B-BRAND'), (10, 18, 'B-TYPE')]"
        ],
        [
         "31",
         "антистати",
         "[(0, 9, 'B-TYPE')]"
        ],
        [
         "32",
         "очки гала",
         "[(0, 4, 'B-TYPE'), (5, 9, 'I-TYPE')]"
        ],
        [
         "33",
         "сов",
         "[(0, 3, 'B-TYPE')]"
        ],
        [
         "34",
         "atlantic плавки",
         "[(0, 8, 'B-BRAND'), (9, 15, 'B-TYPE')]"
        ],
        [
         "35",
         "мясо свинина индейка",
         "[(0, 4, 'B-TYPE'), (5, 12, 'I-TYPE'), (13, 20, 'I-TYPE')]"
        ],
        [
         "36",
         "соседдушка трубочка",
         "[(0, 10, 'B-TYPE'), (11, 19, 'I-TYPE')]"
        ],
        [
         "37",
         "хлеб белый батон",
         "[(0, 4, 'B-TYPE'), (5, 10, 'I-TYPE'), (11, 16, 'I-TYPE')]"
        ],
        [
         "38",
         "огурцы маринованные",
         "[(0, 6, 'B-TYPE'), (7, 19, 'I-TYPE')]"
        ],
        [
         "39",
         "маслины vitalan",
         "[(0, 7, 'B-TYPE'), (8, 15, 'B-BRAND')]"
        ],
        [
         "40",
         "маринованое",
         "[(0, 11, 'B-TYPE')]"
        ],
        [
         "41",
         "сосиски,",
         "[(0, 8, 'B-TYPE')]"
        ],
        [
         "42",
         "оп",
         "[(0, 2, 'B-TYPE')]"
        ],
        [
         "43",
         "удлинители камели",
         "[(0, 10, 'B-TYPE'), (11, 17, 'I-TYPE')]"
        ],
        [
         "44",
         "пастеризованн",
         "[(0, 13, 'B-TYPE')]"
        ],
        [
         "45",
         "сырок за из",
         "[(0, 5, 'B-TYPE'), (6, 8, 'I-TYPE'), (9, 11, 'I-TYPE')]"
        ],
        [
         "46",
         "крекер baul",
         "[(0, 6, 'B-TYPE'), (7, 11, 'B-BRAND')]"
        ],
        [
         "47",
         "нблины",
         "[(0, 6, 'B-TYPE')]"
        ],
        [
         "48",
         "крриандр",
         "[(0, 8, 'B-TYPE')]"
        ],
        [
         "49",
         "сыорок",
         "[(0, 6, 'B-TYPE')]"
        ]
       ],
       "shape": {
        "columns": 2,
        "rows": 5000
       }
      },
      "text/html": [
       "<div>\n",
       "<style scoped>\n",
       "    .dataframe tbody tr th:only-of-type {\n",
       "        vertical-align: middle;\n",
       "    }\n",
       "\n",
       "    .dataframe tbody tr th {\n",
       "        vertical-align: top;\n",
       "    }\n",
       "\n",
       "    .dataframe thead th {\n",
       "        text-align: right;\n",
       "    }\n",
       "</style>\n",
       "<table border=\"1\" class=\"dataframe\">\n",
       "  <thead>\n",
       "    <tr style=\"text-align: right;\">\n",
       "      <th></th>\n",
       "      <th>sample</th>\n",
       "      <th>annotation</th>\n",
       "    </tr>\n",
       "  </thead>\n",
       "  <tbody>\n",
       "    <tr>\n",
       "      <th>0</th>\n",
       "      <td>форма для выпечки</td>\n",
       "      <td>[(0, 5, 'B-TYPE'), (6, 9, 'I-TYPE'), (10, 17, ...</td>\n",
       "    </tr>\n",
       "    <tr>\n",
       "      <th>1</th>\n",
       "      <td>фарш свиной</td>\n",
       "      <td>[(0, 4, 'B-TYPE'), (5, 11, 'I-TYPE')]</td>\n",
       "    </tr>\n",
       "    <tr>\n",
       "      <th>2</th>\n",
       "      <td>сок ананасовый без сахара</td>\n",
       "      <td>[(0, 3, 'B-TYPE'), (4, 14, 'I-TYPE'), (15, 18,...</td>\n",
       "    </tr>\n",
       "    <tr>\n",
       "      <th>3</th>\n",
       "      <td>еринги</td>\n",
       "      <td>[(0, 6, 'B-TYPE')]</td>\n",
       "    </tr>\n",
       "    <tr>\n",
       "      <th>4</th>\n",
       "      <td>молооко</td>\n",
       "      <td>[(0, 7, 'B-TYPE')]</td>\n",
       "    </tr>\n",
       "    <tr>\n",
       "      <th>...</th>\n",
       "      <td>...</td>\n",
       "      <td>...</td>\n",
       "    </tr>\n",
       "    <tr>\n",
       "      <th>4995</th>\n",
       "      <td>milkywa</td>\n",
       "      <td>[(0, 7, 'B-BRAND')]</td>\n",
       "    </tr>\n",
       "    <tr>\n",
       "      <th>4996</th>\n",
       "      <td>очиститель для унитаза</td>\n",
       "      <td>[(0, 10, 'B-TYPE'), (11, 14, 'I-TYPE'), (15, 2...</td>\n",
       "    </tr>\n",
       "    <tr>\n",
       "      <th>4997</th>\n",
       "      <td>арбузные</td>\n",
       "      <td>[(0, 8, 'B-TYPE')]</td>\n",
       "    </tr>\n",
       "    <tr>\n",
       "      <th>4998</th>\n",
       "      <td>кашы</td>\n",
       "      <td>[(0, 4, 'B-TYPE')]</td>\n",
       "    </tr>\n",
       "    <tr>\n",
       "      <th>4999</th>\n",
       "      <td>рычалк</td>\n",
       "      <td>[(0, 6, 'B-TYPE')]</td>\n",
       "    </tr>\n",
       "  </tbody>\n",
       "</table>\n",
       "<p>5000 rows × 2 columns</p>\n",
       "</div>"
      ],
      "text/plain": [
       "                         sample  \\\n",
       "0             форма для выпечки   \n",
       "1                   фарш свиной   \n",
       "2     сок ананасовый без сахара   \n",
       "3                        еринги   \n",
       "4                       молооко   \n",
       "...                         ...   \n",
       "4995                    milkywa   \n",
       "4996     очиститель для унитаза   \n",
       "4997                   арбузные   \n",
       "4998                       кашы   \n",
       "4999                     рычалк   \n",
       "\n",
       "                                             annotation  \n",
       "0     [(0, 5, 'B-TYPE'), (6, 9, 'I-TYPE'), (10, 17, ...  \n",
       "1                 [(0, 4, 'B-TYPE'), (5, 11, 'I-TYPE')]  \n",
       "2     [(0, 3, 'B-TYPE'), (4, 14, 'I-TYPE'), (15, 18,...  \n",
       "3                                    [(0, 6, 'B-TYPE')]  \n",
       "4                                    [(0, 7, 'B-TYPE')]  \n",
       "...                                                 ...  \n",
       "4995                                [(0, 7, 'B-BRAND')]  \n",
       "4996  [(0, 10, 'B-TYPE'), (11, 14, 'I-TYPE'), (15, 2...  \n",
       "4997                                 [(0, 8, 'B-TYPE')]  \n",
       "4998                                 [(0, 4, 'B-TYPE')]  \n",
       "4999                                 [(0, 6, 'B-TYPE')]  \n",
       "\n",
       "[5000 rows x 2 columns]"
      ]
     },
     "execution_count": 4,
     "metadata": {},
     "output_type": "execute_result"
    }
   ],
   "source": [
    "df_test"
   ]
  },
  {
   "cell_type": "markdown",
   "id": "1a9dad7b",
   "metadata": {},
   "source": [
    "## spellchecker"
   ]
  },
  {
   "cell_type": "code",
   "execution_count": 30,
   "id": "602e2c51",
   "metadata": {},
   "outputs": [
    {
     "data": {
      "text/plain": [
       "['ууа',\n",
       " 'шоколо',\n",
       " 'горчича',\n",
       " 'детские',\n",
       " 'творог моч цена',\n",
       " 'сам перемена',\n",
       " 'тортидья',\n",
       " 'нафинад',\n",
       " 'лмона',\n",
       " 'чай беллини',\n",
       " 'сельдь oce',\n",
       " 'салат черепаха',\n",
       " 'молокоз',\n",
       " 'ореховая смесь смесь',\n",
       " 'arco',\n",
       " 'дезоторант',\n",
       " 'бул',\n",
       " 'кроха панам',\n",
       " 'картофелб',\n",
       " 'подушечки хрутка']"
      ]
     },
     "execution_count": 30,
     "metadata": {},
     "output_type": "execute_result"
    }
   ],
   "source": [
    "samples = df_test['sample'].sample(20, random_state=32).tolist()\n",
    "samples"
   ]
  },
  {
   "cell_type": "markdown",
   "id": "d0cc8fc9",
   "metadata": {},
   "source": [
    "заметка:\n",
    "* если слово иностранное, лучше оставлять так как есть\n",
    "* маппер для ориг.запроса <> исправленной версии, чтобы правильно определять начало-конец сущности"
   ]
  },
  {
   "cell_type": "code",
   "execution_count": null,
   "id": "29771e22",
   "metadata": {},
   "outputs": [],
   "source": [
    "splitter = lambda x: re.split(r'[ \\-.,?]+', x)\n",
    "\n",
    "for phrase in samples:\n",
    "    print(f'initial search: {phrase}')\n",
    "    splitted_phrase = splitter(phrase)\n",
    "    for wrd in splitted_phrase:\n",
    "        print(f'word: {wrd}')\n",
    "        check = Word(wrd)\n",
    "        print(f'variants: {check.variants}')\n",
    "        print('******'*10)"
   ]
  },
  {
   "cell_type": "markdown",
   "id": "784d8921",
   "metadata": {},
   "source": [
    "## SpellChecker"
   ]
  },
  {
   "cell_type": "code",
   "execution_count": 42,
   "id": "e6ed30c8",
   "metadata": {},
   "outputs": [],
   "source": [
    "spell = SpellChecker(language='ru')"
   ]
  },
  {
   "cell_type": "code",
   "execution_count": null,
   "id": "c29e2989",
   "metadata": {},
   "outputs": [],
   "source": [
    "# find those words that may be misspelled\n",
    "misspelled = spell.unknown(samples)\n",
    "\n",
    "for word in misspelled:\n",
    "    print(word)\n",
    "    # Get the one `most likely` answer\n",
    "    print(spell.correction(word))\n",
    "    # Get a list of `likely` options\n",
    "    print(spell.candidates(word))\n",
    "    print('****'*30)"
   ]
  },
  {
   "cell_type": "markdown",
   "id": "94b4ef13",
   "metadata": {},
   "source": [
    "## GLiner"
   ]
  },
  {
   "cell_type": "code",
   "execution_count": 75,
   "id": "539ece42",
   "metadata": {},
   "outputs": [
    {
     "data": {
      "application/vnd.microsoft.datawrangler.viewer.v0+json": {
       "columns": [
        {
         "name": "index",
         "rawType": "int64",
         "type": "integer"
        },
        {
         "name": "sample",
         "rawType": "object",
         "type": "string"
        },
        {
         "name": "annotation",
         "rawType": "object",
         "type": "string"
        }
       ],
       "ref": "05b45c7d-de63-4379-9c31-f9767aaf17f1",
       "rows": [
        [
         "4640",
         "телец ветчина",
         "[(0, 5, 'B-TYPE'), (6, 13, 'I-TYPE')]"
        ],
        [
         "4641",
         "говяжий фарш",
         "[(0, 7, 'B-TYPE'), (8, 12, 'I-TYPE')]"
        ],
        [
         "4642",
         "напольное покрыти",
         "[(0, 9, 'B-TYPE'), (10, 17, 'I-TYPE')]"
        ],
        [
         "4643",
         "щетки season",
         "[(0, 5, 'B-TYPE'), (6, 12, 'B-BRAND')]"
        ],
        [
         "4644",
         "прочие фруктовые",
         "[(0, 6, 'B-TYPE'), (7, 16, 'I-TYPE')]"
        ],
        [
         "4645",
         "ментос",
         "[(0, 6, 'B-TYPE')]"
        ],
        [
         "4646",
         "клбаса",
         "[(0, 6, 'B-TYPE')]"
        ],
        [
         "4647",
         "салат черепаха",
         "[(0, 5, 'B-TYPE'), (6, 14, 'I-TYPE')]"
        ],
        [
         "4648",
         "вода люкс газированная",
         "[(0, 4, 'B-TYPE'), (5, 9, 'I-TYPE'), (10, 22, 'I-TYPE')]"
        ],
        [
         "4649",
         "молоко 1,5 %",
         "[(0, 6, 'B-TYPE'), (7, 10, 'B-VOLUME')]"
        ],
        [
         "4650",
         "гель для стирки для черного",
         "[(0, 4, 'B-TYPE'), (5, 8, 'I-TYPE'), (9, 15, 'I-TYPE'), (16, 19, 'I-TYPE'), (20, 27, 'I-TYPE')]"
        ],
        [
         "4651",
         "polaris или",
         "[(0, 7, 'B-BRAND'), (8, 11, 'B-TYPE')]"
        ],
        [
         "4652",
         "детский сок",
         "[(0, 7, 'B-TYPE'), (8, 11, 'I-TYPE')]"
        ],
        [
         "4653",
         "зонт зонти",
         "[(0, 4, 'B-TYPE'), (5, 10, 'I-TYPE')]"
        ],
        [
         "4654",
         "соль для посудомо",
         "[(0, 4, 'B-TYPE'), (5, 8, 'I-TYPE'), (9, 17, 'I-TYPE')]"
        ],
        [
         "4655",
         "смородина fresco",
         "[(0, 9, 'B-TYPE'), (10, 16, 'B-BRAND')]"
        ],
        [
         "4656",
         "русалочка губки",
         "[(0, 9, 'B-TYPE'), (10, 15, 'I-TYPE')]"
        ],
        [
         "4657",
         "нива",
         "[(0, 4, 'B-TYPE')]"
        ],
        [
         "4658",
         "багет котовскхл",
         "[(0, 5, 'B-TYPE'), (6, 15, 'I-TYPE')]"
        ],
        [
         "4659",
         "нафинад",
         "[(0, 7, 'B-TYPE')]"
        ]
       ],
       "shape": {
        "columns": 2,
        "rows": 20
       }
      },
      "text/html": [
       "<div>\n",
       "<style scoped>\n",
       "    .dataframe tbody tr th:only-of-type {\n",
       "        vertical-align: middle;\n",
       "    }\n",
       "\n",
       "    .dataframe tbody tr th {\n",
       "        vertical-align: top;\n",
       "    }\n",
       "\n",
       "    .dataframe thead th {\n",
       "        text-align: right;\n",
       "    }\n",
       "</style>\n",
       "<table border=\"1\" class=\"dataframe\">\n",
       "  <thead>\n",
       "    <tr style=\"text-align: right;\">\n",
       "      <th></th>\n",
       "      <th>sample</th>\n",
       "      <th>annotation</th>\n",
       "    </tr>\n",
       "  </thead>\n",
       "  <tbody>\n",
       "    <tr>\n",
       "      <th>4640</th>\n",
       "      <td>телец ветчина</td>\n",
       "      <td>[(0, 5, 'B-TYPE'), (6, 13, 'I-TYPE')]</td>\n",
       "    </tr>\n",
       "    <tr>\n",
       "      <th>4641</th>\n",
       "      <td>говяжий фарш</td>\n",
       "      <td>[(0, 7, 'B-TYPE'), (8, 12, 'I-TYPE')]</td>\n",
       "    </tr>\n",
       "    <tr>\n",
       "      <th>4642</th>\n",
       "      <td>напольное покрыти</td>\n",
       "      <td>[(0, 9, 'B-TYPE'), (10, 17, 'I-TYPE')]</td>\n",
       "    </tr>\n",
       "    <tr>\n",
       "      <th>4643</th>\n",
       "      <td>щетки season</td>\n",
       "      <td>[(0, 5, 'B-TYPE'), (6, 12, 'B-BRAND')]</td>\n",
       "    </tr>\n",
       "    <tr>\n",
       "      <th>4644</th>\n",
       "      <td>прочие фруктовые</td>\n",
       "      <td>[(0, 6, 'B-TYPE'), (7, 16, 'I-TYPE')]</td>\n",
       "    </tr>\n",
       "    <tr>\n",
       "      <th>4645</th>\n",
       "      <td>ментос</td>\n",
       "      <td>[(0, 6, 'B-TYPE')]</td>\n",
       "    </tr>\n",
       "    <tr>\n",
       "      <th>4646</th>\n",
       "      <td>клбаса</td>\n",
       "      <td>[(0, 6, 'B-TYPE')]</td>\n",
       "    </tr>\n",
       "    <tr>\n",
       "      <th>4647</th>\n",
       "      <td>салат черепаха</td>\n",
       "      <td>[(0, 5, 'B-TYPE'), (6, 14, 'I-TYPE')]</td>\n",
       "    </tr>\n",
       "    <tr>\n",
       "      <th>4648</th>\n",
       "      <td>вода люкс газированная</td>\n",
       "      <td>[(0, 4, 'B-TYPE'), (5, 9, 'I-TYPE'), (10, 22, ...</td>\n",
       "    </tr>\n",
       "    <tr>\n",
       "      <th>4649</th>\n",
       "      <td>молоко 1,5 %</td>\n",
       "      <td>[(0, 6, 'B-TYPE'), (7, 10, 'B-VOLUME')]</td>\n",
       "    </tr>\n",
       "    <tr>\n",
       "      <th>4650</th>\n",
       "      <td>гель для стирки для черного</td>\n",
       "      <td>[(0, 4, 'B-TYPE'), (5, 8, 'I-TYPE'), (9, 15, '...</td>\n",
       "    </tr>\n",
       "    <tr>\n",
       "      <th>4651</th>\n",
       "      <td>polaris или</td>\n",
       "      <td>[(0, 7, 'B-BRAND'), (8, 11, 'B-TYPE')]</td>\n",
       "    </tr>\n",
       "    <tr>\n",
       "      <th>4652</th>\n",
       "      <td>детский сок</td>\n",
       "      <td>[(0, 7, 'B-TYPE'), (8, 11, 'I-TYPE')]</td>\n",
       "    </tr>\n",
       "    <tr>\n",
       "      <th>4653</th>\n",
       "      <td>зонт зонти</td>\n",
       "      <td>[(0, 4, 'B-TYPE'), (5, 10, 'I-TYPE')]</td>\n",
       "    </tr>\n",
       "    <tr>\n",
       "      <th>4654</th>\n",
       "      <td>соль для посудомо</td>\n",
       "      <td>[(0, 4, 'B-TYPE'), (5, 8, 'I-TYPE'), (9, 17, '...</td>\n",
       "    </tr>\n",
       "    <tr>\n",
       "      <th>4655</th>\n",
       "      <td>смородина fresco</td>\n",
       "      <td>[(0, 9, 'B-TYPE'), (10, 16, 'B-BRAND')]</td>\n",
       "    </tr>\n",
       "    <tr>\n",
       "      <th>4656</th>\n",
       "      <td>русалочка губки</td>\n",
       "      <td>[(0, 9, 'B-TYPE'), (10, 15, 'I-TYPE')]</td>\n",
       "    </tr>\n",
       "    <tr>\n",
       "      <th>4657</th>\n",
       "      <td>нива</td>\n",
       "      <td>[(0, 4, 'B-TYPE')]</td>\n",
       "    </tr>\n",
       "    <tr>\n",
       "      <th>4658</th>\n",
       "      <td>багет котовскхл</td>\n",
       "      <td>[(0, 5, 'B-TYPE'), (6, 15, 'I-TYPE')]</td>\n",
       "    </tr>\n",
       "    <tr>\n",
       "      <th>4659</th>\n",
       "      <td>нафинад</td>\n",
       "      <td>[(0, 7, 'B-TYPE')]</td>\n",
       "    </tr>\n",
       "  </tbody>\n",
       "</table>\n",
       "</div>"
      ],
      "text/plain": [
       "                           sample  \\\n",
       "4640                телец ветчина   \n",
       "4641                 говяжий фарш   \n",
       "4642            напольное покрыти   \n",
       "4643                 щетки season   \n",
       "4644             прочие фруктовые   \n",
       "4645                       ментос   \n",
       "4646                       клбаса   \n",
       "4647               салат черепаха   \n",
       "4648       вода люкс газированная   \n",
       "4649                 молоко 1,5 %   \n",
       "4650  гель для стирки для черного   \n",
       "4651                  polaris или   \n",
       "4652                  детский сок   \n",
       "4653                   зонт зонти   \n",
       "4654            соль для посудомо   \n",
       "4655             смородина fresco   \n",
       "4656              русалочка губки   \n",
       "4657                         нива   \n",
       "4658              багет котовскхл   \n",
       "4659                      нафинад   \n",
       "\n",
       "                                             annotation  \n",
       "4640              [(0, 5, 'B-TYPE'), (6, 13, 'I-TYPE')]  \n",
       "4641              [(0, 7, 'B-TYPE'), (8, 12, 'I-TYPE')]  \n",
       "4642             [(0, 9, 'B-TYPE'), (10, 17, 'I-TYPE')]  \n",
       "4643             [(0, 5, 'B-TYPE'), (6, 12, 'B-BRAND')]  \n",
       "4644              [(0, 6, 'B-TYPE'), (7, 16, 'I-TYPE')]  \n",
       "4645                                 [(0, 6, 'B-TYPE')]  \n",
       "4646                                 [(0, 6, 'B-TYPE')]  \n",
       "4647              [(0, 5, 'B-TYPE'), (6, 14, 'I-TYPE')]  \n",
       "4648  [(0, 4, 'B-TYPE'), (5, 9, 'I-TYPE'), (10, 22, ...  \n",
       "4649            [(0, 6, 'B-TYPE'), (7, 10, 'B-VOLUME')]  \n",
       "4650  [(0, 4, 'B-TYPE'), (5, 8, 'I-TYPE'), (9, 15, '...  \n",
       "4651             [(0, 7, 'B-BRAND'), (8, 11, 'B-TYPE')]  \n",
       "4652              [(0, 7, 'B-TYPE'), (8, 11, 'I-TYPE')]  \n",
       "4653              [(0, 4, 'B-TYPE'), (5, 10, 'I-TYPE')]  \n",
       "4654  [(0, 4, 'B-TYPE'), (5, 8, 'I-TYPE'), (9, 17, '...  \n",
       "4655            [(0, 9, 'B-TYPE'), (10, 16, 'B-BRAND')]  \n",
       "4656             [(0, 9, 'B-TYPE'), (10, 15, 'I-TYPE')]  \n",
       "4657                                 [(0, 4, 'B-TYPE')]  \n",
       "4658              [(0, 5, 'B-TYPE'), (6, 15, 'I-TYPE')]  \n",
       "4659                                 [(0, 7, 'B-TYPE')]  "
      ]
     },
     "execution_count": 75,
     "metadata": {},
     "output_type": "execute_result"
    }
   ],
   "source": [
    "samples = df_test.iloc[4640:4660]\n",
    "samples"
   ]
  },
  {
   "cell_type": "code",
   "execution_count": 5,
   "id": "e0d01712",
   "metadata": {},
   "outputs": [],
   "source": [
    "def to_bio_spans(entities, gap_tolerance=1):\n",
    "    # defensive: remove items missing required keys\n",
    "    ents = [e for e in entities if 'start' in e and 'end' in e and 'label' in e]\n",
    "    # sort by start\n",
    "    ents.sort(key=lambda x: (x['start'], x['end']))\n",
    "\n",
    "    bio = []\n",
    "    prev_end = None\n",
    "    prev_label = None\n",
    "\n",
    "    for e in ents:\n",
    "        s = e['start']\n",
    "        t = e['end']\n",
    "        lbl = e['label'].upper()  # keep case consistent; remove .upper() if you want original case\n",
    "        # print(prev_label, lbl, s, prev_end)\n",
    "        if prev_label is not None and lbl == prev_label and (s - prev_end) <= gap_tolerance:\n",
    "            prefix = 'I-'\n",
    "        else:\n",
    "            prefix = 'B-'\n",
    "\n",
    "        bio.append((s, t, f\"{prefix}{lbl}\"))\n",
    "\n",
    "        prev_end = t\n",
    "        prev_label = lbl\n",
    "\n",
    "    return bio"
   ]
  },
  {
   "cell_type": "code",
   "execution_count": 6,
   "id": "c722c753",
   "metadata": {},
   "outputs": [],
   "source": [
    "labels = [\"бренд\", \"категория товара\", \"объем\", \"проценты\"]\n",
    "# labels = [\"BRAND\", \"TYPE\", \"PERCENT\", \"VOLUME\"]"
   ]
  },
  {
   "cell_type": "code",
   "execution_count": 7,
   "id": "25dc9f08",
   "metadata": {},
   "outputs": [
    {
     "name": "stderr",
     "output_type": "stream",
     "text": [
      "Asking to truncate to max_length but no maximum length is provided and the model has no predefined maximum length. Default to no truncation.\n"
     ]
    },
    {
     "data": {
      "text/plain": [
       "[(0, 4, 'B-КАТЕГОРИЯ ТОВАРА'),\n",
       " (5, 12, 'I-КАТЕГОРИЯ ТОВАРА'),\n",
       " (13, 20, 'I-КАТЕГОРИЯ ТОВАРА')]"
      ]
     },
     "execution_count": 7,
     "metadata": {},
     "output_type": "execute_result"
    }
   ],
   "source": [
    "r = model.predict_entities('мясо свинина индейка', labels, threshold=0.01)\n",
    "to_bio_spans(r)"
   ]
  },
  {
   "cell_type": "code",
   "execution_count": null,
   "id": "da7b3ee1",
   "metadata": {},
   "outputs": [
    {
     "name": "stderr",
     "output_type": "stream",
     "text": [
      "295it [00:45,  5.60it/s]"
     ]
    }
   ],
   "source": [
    "all_spans = []\n",
    "for i, row in tqdm(df_test.iterrows()):\n",
    "    # print(f'text: {row['sample']}')\n",
    "    # print(f'annotation: {row['annotation']}')\n",
    "    try:\n",
    "        entities = model.predict_entities(row['sample'], labels, threshold=0.01)\n",
    "        all_spans.append(to_bio_spans(entities))\n",
    "    except:\n",
    "        all_spans.append([])\n",
    "    # for entity in entities:\n",
    "    #     print(entity[\"text\"], \"=>\", entity[\"label\"])\n",
    "    # print(entities)\n",
    "    # print(to_bio_spans(entities))\n",
    "    # print('\\n\\n' + '#'*50 + '\\n\\n')\n"
   ]
  },
  {
   "cell_type": "code",
   "execution_count": 80,
   "id": "9f971b24",
   "metadata": {},
   "outputs": [
    {
     "data": {
      "text/plain": [
       "[(0, 7, 'B-БРЕНД')]"
      ]
     },
     "execution_count": 80,
     "metadata": {},
     "output_type": "execute_result"
    }
   ],
   "source": [
    "to_bio_spans(entities)"
   ]
  },
  {
   "cell_type": "code",
   "execution_count": 18,
   "id": "2f8c417c",
   "metadata": {},
   "outputs": [],
   "source": [
    "df_test['spans'] = all_spans"
   ]
  },
  {
   "cell_type": "code",
   "execution_count": 19,
   "id": "110eb02e",
   "metadata": {},
   "outputs": [
    {
     "data": {
      "application/vnd.microsoft.datawrangler.viewer.v0+json": {
       "columns": [
        {
         "name": "index",
         "rawType": "int64",
         "type": "integer"
        },
        {
         "name": "sample",
         "rawType": "object",
         "type": "string"
        },
        {
         "name": "annotation",
         "rawType": "object",
         "type": "string"
        },
        {
         "name": "spans",
         "rawType": "object",
         "type": "unknown"
        }
       ],
       "ref": "bda31b6d-48c8-4d8e-a680-703104ccb673",
       "rows": [
        [
         "0",
         "форма для выпечки",
         "[(0, 5, 'B-TYPE'), (6, 9, 'I-TYPE'), (10, 17, 'I-TYPE')]",
         "[(0, 17, 'B-КАТЕГОРИЯ ТОВАРА')]"
        ],
        [
         "1",
         "фарш свиной",
         "[(0, 4, 'B-TYPE'), (5, 11, 'I-TYPE')]",
         "[(0, 11, 'B-КАТЕГОРИЯ ТОВАРА')]"
        ],
        [
         "2",
         "сок ананасовый без сахара",
         "[(0, 3, 'B-TYPE'), (4, 14, 'I-TYPE'), (15, 18, 'I-TYPE'), (19, 25, 'I-TYPE')]",
         "[(0, 14, 'B-КАТЕГОРИЯ ТОВАРА'), (15, 25, 'I-КАТЕГОРИЯ ТОВАРА')]"
        ],
        [
         "3",
         "еринги",
         "[(0, 6, 'B-TYPE')]",
         "[(0, 6, 'B-БРЕНД')]"
        ],
        [
         "4",
         "молооко",
         "[(0, 7, 'B-TYPE')]",
         "[(0, 7, 'B-КАТЕГОРИЯ ТОВАРА')]"
        ],
        [
         "5",
         "поролок",
         "[(0, 7, 'B-TYPE')]",
         "[(0, 7, 'B-КАТЕГОРИЯ ТОВАРА')]"
        ],
        [
         "6",
         "свмнина",
         "[(0, 7, 'B-TYPE')]",
         "[(0, 7, 'B-КАТЕГОРИЯ ТОВАРА')]"
        ],
        [
         "7",
         "припрааа для рыбы",
         "[(0, 8, 'B-TYPE'), (9, 12, 'I-TYPE'), (13, 17, 'I-TYPE')]",
         "[(0, 8, 'B-КАТЕГОРИЯ ТОВАРА'), (13, 17, 'B-КАТЕГОРИЯ ТОВАРА')]"
        ],
        [
         "8",
         "сулугцн",
         "[(0, 7, 'B-TYPE')]",
         "[(0, 7, 'B-БРЕНД')]"
        ],
        [
         "9",
         "mitti",
         "[(0, 5, 'B-BRAND')]",
         "[(0, 5, 'B-КАТЕГОРИЯ ТОВАРА')]"
        ],
        [
         "10",
         "пастеризованна",
         "[(0, 14, 'B-TYPE')]",
         "[(0, 14, 'B-КАТЕГОРИЯ ТОВАРА')]"
        ],
        [
         "11",
         "полуфабрикаиы",
         "[(0, 13, 'B-TYPE')]",
         "[(0, 13, 'B-КАТЕГОРИЯ ТОВАРА')]"
        ],
        [
         "12",
         "семена экон",
         "[(0, 6, 'B-TYPE'), (7, 11, 'I-TYPE')]",
         "[(0, 6, 'B-КАТЕГОРИЯ ТОВАРА'), (7, 11, 'I-КАТЕГОРИЯ ТОВАРА')]"
        ],
        [
         "13",
         "соус по грузински",
         "[(0, 4, 'B-TYPE'), (5, 7, 'I-TYPE'), (8, 17, 'I-TYPE')]",
         "[(0, 4, 'B-КАТЕГОРИЯ ТОВАРА'), (8, 17, 'B-КАТЕГОРИЯ ТОВАРА')]"
        ],
        [
         "14",
         "то матная паста",
         "[(0, 2, 'B-TYPE'), (3, 9, 'I-TYPE'), (10, 15, 'I-TYPE')]",
         "[(0, 2, 'B-КАТЕГОРИЯ ТОВАРА'), (3, 15, 'I-КАТЕГОРИЯ ТОВАРА')]"
        ],
        [
         "15",
         "фаворит",
         "[(0, 7, 'B-TYPE')]",
         "[(0, 7, 'B-БРЕНД')]"
        ],
        [
         "16",
         "ополаскиватель. для белья",
         "[(0, 15, 'B-TYPE'), (16, 19, 'I-TYPE'), (20, 25, 'I-TYPE')]",
         "[(0, 14, 'B-БРЕНД'), (16, 25, 'B-КАТЕГОРИЯ ТОВАРА')]"
        ],
        [
         "17",
         "сливкп",
         "[(0, 6, 'B-TYPE')]",
         "[(0, 6, 'B-КАТЕГОРИЯ ТОВАРА')]"
        ],
        [
         "18",
         "бамбу",
         "[(0, 5, 'B-TYPE')]",
         "[(0, 5, 'B-КАТЕГОРИЯ ТОВАРА')]"
        ],
        [
         "19",
         "nishoom",
         "[(0, 7, 'B-BRAND')]",
         "[(0, 7, 'B-БРЕНД')]"
        ],
        [
         "20",
         "семушка орех",
         "[(0, 7, 'B-TYPE'), (8, 12, 'I-TYPE')]",
         "[(0, 7, 'B-КАТЕГОРИЯ ТОВАРА'), (8, 12, 'I-КАТЕГОРИЯ ТОВАРА')]"
        ],
        [
         "21",
         "немолоко",
         "[(0, 8, 'B-TYPE')]",
         "[(0, 8, 'B-КАТЕГОРИЯ ТОВАРА')]"
        ],
        [
         "22",
         "прочий чай",
         "[(0, 6, 'B-TYPE'), (7, 10, 'I-TYPE')]",
         "[(0, 10, 'B-КАТЕГОРИЯ ТОВАРА')]"
        ],
        [
         "23",
         "сейчас мантел",
         "[(0, 6, 'B-TYPE'), (7, 13, 'I-TYPE')]",
         "[(0, 6, 'B-КАТЕГОРИЯ ТОВАРА'), (7, 13, 'B-БРЕНД')]"
        ],
        [
         "24",
         "петмол",
         "[(0, 6, 'B-TYPE')]",
         "[(0, 6, 'B-ОБЪЕМ')]"
        ],
        [
         "25",
         "сырокопчёная",
         "[(0, 12, 'B-TYPE')]",
         "[(0, 12, 'B-КАТЕГОРИЯ ТОВАРА')]"
        ],
        [
         "26",
         "chco",
         "[(0, 4, 'B-BRAND')]",
         "[(0, 4, 'B-БРЕНД')]"
        ],
        [
         "27",
         "сосиски желе",
         "[(0, 7, 'B-TYPE'), (8, 12, 'I-TYPE')]",
         "[(0, 12, 'B-КАТЕГОРИЯ ТОВАРА')]"
        ],
        [
         "28",
         "гречкан",
         "[(0, 7, 'B-TYPE')]",
         "[(0, 7, 'B-КАТЕГОРИЯ ТОВАРА')]"
        ],
        [
         "29",
         "cheese",
         "[(0, 6, 'B-BRAND')]",
         "[(0, 6, 'B-КАТЕГОРИЯ ТОВАРА')]"
        ],
        [
         "30",
         "dr.oetker ванильны",
         "[(0, 9, 'B-BRAND'), (10, 18, 'B-TYPE')]",
         "[(0, 9, 'B-БРЕНД'), (10, 18, 'B-КАТЕГОРИЯ ТОВАРА')]"
        ],
        [
         "31",
         "антистати",
         "[(0, 9, 'B-TYPE')]",
         "[(0, 9, 'B-КАТЕГОРИЯ ТОВАРА')]"
        ],
        [
         "32",
         "очки гала",
         "[(0, 4, 'B-TYPE'), (5, 9, 'I-TYPE')]",
         "[(0, 4, 'B-КАТЕГОРИЯ ТОВАРА'), (5, 9, 'I-КАТЕГОРИЯ ТОВАРА')]"
        ],
        [
         "33",
         "сов",
         "[(0, 3, 'B-TYPE')]",
         "[(0, 3, 'B-БРЕНД')]"
        ],
        [
         "34",
         "atlantic плавки",
         "[(0, 8, 'B-BRAND'), (9, 15, 'B-TYPE')]",
         "[(0, 8, 'B-БРЕНД'), (9, 15, 'B-КАТЕГОРИЯ ТОВАРА')]"
        ],
        [
         "35",
         "мясо свинина индейка",
         "[(0, 4, 'B-TYPE'), (5, 12, 'I-TYPE'), (13, 20, 'I-TYPE')]",
         "[(0, 4, 'B-КАТЕГОРИЯ ТОВАРА'), (5, 12, 'I-КАТЕГОРИЯ ТОВАРА'), (13, 20, 'I-КАТЕГОРИЯ ТОВАРА')]"
        ],
        [
         "36",
         "соседдушка трубочка",
         "[(0, 10, 'B-TYPE'), (11, 19, 'I-TYPE')]",
         "[(0, 10, 'B-КАТЕГОРИЯ ТОВАРА'), (11, 19, 'I-КАТЕГОРИЯ ТОВАРА')]"
        ],
        [
         "37",
         "хлеб белый батон",
         "[(0, 4, 'B-TYPE'), (5, 10, 'I-TYPE'), (11, 16, 'I-TYPE')]",
         "[(0, 4, 'B-КАТЕГОРИЯ ТОВАРА'), (5, 16, 'I-КАТЕГОРИЯ ТОВАРА')]"
        ],
        [
         "38",
         "огурцы маринованные",
         "[(0, 6, 'B-TYPE'), (7, 19, 'I-TYPE')]",
         "[(0, 19, 'B-КАТЕГОРИЯ ТОВАРА')]"
        ],
        [
         "39",
         "маслины vitalan",
         "[(0, 7, 'B-TYPE'), (8, 15, 'B-BRAND')]",
         "[(0, 7, 'B-КАТЕГОРИЯ ТОВАРА'), (8, 15, 'B-БРЕНД')]"
        ],
        [
         "40",
         "маринованое",
         "[(0, 11, 'B-TYPE')]",
         "[(0, 11, 'B-КАТЕГОРИЯ ТОВАРА')]"
        ],
        [
         "41",
         "сосиски,",
         "[(0, 8, 'B-TYPE')]",
         "[(0, 7, 'B-КАТЕГОРИЯ ТОВАРА'), (7, 8, 'I-КАТЕГОРИЯ ТОВАРА')]"
        ],
        [
         "42",
         "оп",
         "[(0, 2, 'B-TYPE')]",
         "[(0, 2, 'B-КАТЕГОРИЯ ТОВАРА')]"
        ],
        [
         "43",
         "удлинители камели",
         "[(0, 10, 'B-TYPE'), (11, 17, 'I-TYPE')]",
         "[(0, 17, 'B-КАТЕГОРИЯ ТОВАРА')]"
        ],
        [
         "44",
         "пастеризованн",
         "[(0, 13, 'B-TYPE')]",
         "[(0, 13, 'B-КАТЕГОРИЯ ТОВАРА')]"
        ],
        [
         "45",
         "сырок за из",
         "[(0, 5, 'B-TYPE'), (6, 8, 'I-TYPE'), (9, 11, 'I-TYPE')]",
         "[(0, 5, 'B-КАТЕГОРИЯ ТОВАРА'), (6, 8, 'I-КАТЕГОРИЯ ТОВАРА'), (9, 11, 'I-КАТЕГОРИЯ ТОВАРА')]"
        ],
        [
         "46",
         "крекер baul",
         "[(0, 6, 'B-TYPE'), (7, 11, 'B-BRAND')]",
         "[(0, 11, 'B-КАТЕГОРИЯ ТОВАРА')]"
        ],
        [
         "47",
         "нблины",
         "[(0, 6, 'B-TYPE')]",
         "[(0, 6, 'B-КАТЕГОРИЯ ТОВАРА')]"
        ],
        [
         "48",
         "крриандр",
         "[(0, 8, 'B-TYPE')]",
         "[(0, 8, 'B-БРЕНД')]"
        ],
        [
         "49",
         "сыорок",
         "[(0, 6, 'B-TYPE')]",
         "[(0, 6, 'B-КАТЕГОРИЯ ТОВАРА')]"
        ]
       ],
       "shape": {
        "columns": 3,
        "rows": 5000
       }
      },
      "text/html": [
       "<div>\n",
       "<style scoped>\n",
       "    .dataframe tbody tr th:only-of-type {\n",
       "        vertical-align: middle;\n",
       "    }\n",
       "\n",
       "    .dataframe tbody tr th {\n",
       "        vertical-align: top;\n",
       "    }\n",
       "\n",
       "    .dataframe thead th {\n",
       "        text-align: right;\n",
       "    }\n",
       "</style>\n",
       "<table border=\"1\" class=\"dataframe\">\n",
       "  <thead>\n",
       "    <tr style=\"text-align: right;\">\n",
       "      <th></th>\n",
       "      <th>sample</th>\n",
       "      <th>annotation</th>\n",
       "      <th>spans</th>\n",
       "    </tr>\n",
       "  </thead>\n",
       "  <tbody>\n",
       "    <tr>\n",
       "      <th>0</th>\n",
       "      <td>форма для выпечки</td>\n",
       "      <td>[(0, 5, 'B-TYPE'), (6, 9, 'I-TYPE'), (10, 17, ...</td>\n",
       "      <td>[(0, 17, B-КАТЕГОРИЯ ТОВАРА)]</td>\n",
       "    </tr>\n",
       "    <tr>\n",
       "      <th>1</th>\n",
       "      <td>фарш свиной</td>\n",
       "      <td>[(0, 4, 'B-TYPE'), (5, 11, 'I-TYPE')]</td>\n",
       "      <td>[(0, 11, B-КАТЕГОРИЯ ТОВАРА)]</td>\n",
       "    </tr>\n",
       "    <tr>\n",
       "      <th>2</th>\n",
       "      <td>сок ананасовый без сахара</td>\n",
       "      <td>[(0, 3, 'B-TYPE'), (4, 14, 'I-TYPE'), (15, 18,...</td>\n",
       "      <td>[(0, 14, B-КАТЕГОРИЯ ТОВАРА), (15, 25, I-КАТЕГ...</td>\n",
       "    </tr>\n",
       "    <tr>\n",
       "      <th>3</th>\n",
       "      <td>еринги</td>\n",
       "      <td>[(0, 6, 'B-TYPE')]</td>\n",
       "      <td>[(0, 6, B-БРЕНД)]</td>\n",
       "    </tr>\n",
       "    <tr>\n",
       "      <th>4</th>\n",
       "      <td>молооко</td>\n",
       "      <td>[(0, 7, 'B-TYPE')]</td>\n",
       "      <td>[(0, 7, B-КАТЕГОРИЯ ТОВАРА)]</td>\n",
       "    </tr>\n",
       "    <tr>\n",
       "      <th>...</th>\n",
       "      <td>...</td>\n",
       "      <td>...</td>\n",
       "      <td>...</td>\n",
       "    </tr>\n",
       "    <tr>\n",
       "      <th>4995</th>\n",
       "      <td>milkywa</td>\n",
       "      <td>[(0, 7, 'B-BRAND')]</td>\n",
       "      <td>[(0, 7, B-БРЕНД)]</td>\n",
       "    </tr>\n",
       "    <tr>\n",
       "      <th>4996</th>\n",
       "      <td>очиститель для унитаза</td>\n",
       "      <td>[(0, 10, 'B-TYPE'), (11, 14, 'I-TYPE'), (15, 2...</td>\n",
       "      <td>[(0, 22, B-КАТЕГОРИЯ ТОВАРА)]</td>\n",
       "    </tr>\n",
       "    <tr>\n",
       "      <th>4997</th>\n",
       "      <td>арбузные</td>\n",
       "      <td>[(0, 8, 'B-TYPE')]</td>\n",
       "      <td>[(0, 8, B-КАТЕГОРИЯ ТОВАРА)]</td>\n",
       "    </tr>\n",
       "    <tr>\n",
       "      <th>4998</th>\n",
       "      <td>кашы</td>\n",
       "      <td>[(0, 4, 'B-TYPE')]</td>\n",
       "      <td>[(0, 4, B-КАТЕГОРИЯ ТОВАРА)]</td>\n",
       "    </tr>\n",
       "    <tr>\n",
       "      <th>4999</th>\n",
       "      <td>рычалк</td>\n",
       "      <td>[(0, 6, 'B-TYPE')]</td>\n",
       "      <td>[(0, 6, B-КАТЕГОРИЯ ТОВАРА)]</td>\n",
       "    </tr>\n",
       "  </tbody>\n",
       "</table>\n",
       "<p>5000 rows × 3 columns</p>\n",
       "</div>"
      ],
      "text/plain": [
       "                         sample  \\\n",
       "0             форма для выпечки   \n",
       "1                   фарш свиной   \n",
       "2     сок ананасовый без сахара   \n",
       "3                        еринги   \n",
       "4                       молооко   \n",
       "...                         ...   \n",
       "4995                    milkywa   \n",
       "4996     очиститель для унитаза   \n",
       "4997                   арбузные   \n",
       "4998                       кашы   \n",
       "4999                     рычалк   \n",
       "\n",
       "                                             annotation  \\\n",
       "0     [(0, 5, 'B-TYPE'), (6, 9, 'I-TYPE'), (10, 17, ...   \n",
       "1                 [(0, 4, 'B-TYPE'), (5, 11, 'I-TYPE')]   \n",
       "2     [(0, 3, 'B-TYPE'), (4, 14, 'I-TYPE'), (15, 18,...   \n",
       "3                                    [(0, 6, 'B-TYPE')]   \n",
       "4                                    [(0, 7, 'B-TYPE')]   \n",
       "...                                                 ...   \n",
       "4995                                [(0, 7, 'B-BRAND')]   \n",
       "4996  [(0, 10, 'B-TYPE'), (11, 14, 'I-TYPE'), (15, 2...   \n",
       "4997                                 [(0, 8, 'B-TYPE')]   \n",
       "4998                                 [(0, 4, 'B-TYPE')]   \n",
       "4999                                 [(0, 6, 'B-TYPE')]   \n",
       "\n",
       "                                                  spans  \n",
       "0                         [(0, 17, B-КАТЕГОРИЯ ТОВАРА)]  \n",
       "1                         [(0, 11, B-КАТЕГОРИЯ ТОВАРА)]  \n",
       "2     [(0, 14, B-КАТЕГОРИЯ ТОВАРА), (15, 25, I-КАТЕГ...  \n",
       "3                                     [(0, 6, B-БРЕНД)]  \n",
       "4                          [(0, 7, B-КАТЕГОРИЯ ТОВАРА)]  \n",
       "...                                                 ...  \n",
       "4995                                  [(0, 7, B-БРЕНД)]  \n",
       "4996                      [(0, 22, B-КАТЕГОРИЯ ТОВАРА)]  \n",
       "4997                       [(0, 8, B-КАТЕГОРИЯ ТОВАРА)]  \n",
       "4998                       [(0, 4, B-КАТЕГОРИЯ ТОВАРА)]  \n",
       "4999                       [(0, 6, B-КАТЕГОРИЯ ТОВАРА)]  \n",
       "\n",
       "[5000 rows x 3 columns]"
      ]
     },
     "execution_count": 19,
     "metadata": {},
     "output_type": "execute_result"
    }
   ],
   "source": [
    "df_test"
   ]
  },
  {
   "cell_type": "code",
   "execution_count": 24,
   "id": "481659a5",
   "metadata": {},
   "outputs": [
    {
     "data": {
      "application/vnd.microsoft.datawrangler.viewer.v0+json": {
       "columns": [
        {
         "name": "index",
         "rawType": "int64",
         "type": "integer"
        },
        {
         "name": "spans",
         "rawType": "object",
         "type": "string"
        }
       ],
       "ref": "c43b9958-71e3-4502-a6fb-49e45aa99380",
       "rows": [
        [
         "0",
         "[(0, 17, 'B-КАТЕГОРИЯ ТОВАРА')]"
        ],
        [
         "1",
         "[(0, 11, 'B-КАТЕГОРИЯ ТОВАРА')]"
        ],
        [
         "2",
         "[(0, 14, 'B-КАТЕГОРИЯ ТОВАРА'), (15, 25, 'I-КАТЕГОРИЯ ТОВАРА')]"
        ],
        [
         "3",
         "[(0, 6, 'B-БРЕНД')]"
        ],
        [
         "4",
         "[(0, 7, 'B-КАТЕГОРИЯ ТОВАРА')]"
        ],
        [
         "5",
         "[(0, 7, 'B-КАТЕГОРИЯ ТОВАРА')]"
        ],
        [
         "6",
         "[(0, 7, 'B-КАТЕГОРИЯ ТОВАРА')]"
        ],
        [
         "7",
         "[(0, 8, 'B-КАТЕГОРИЯ ТОВАРА'), (13, 17, 'B-КАТЕГОРИЯ ТОВАРА')]"
        ],
        [
         "8",
         "[(0, 7, 'B-БРЕНД')]"
        ],
        [
         "9",
         "[(0, 5, 'B-КАТЕГОРИЯ ТОВАРА')]"
        ],
        [
         "10",
         "[(0, 14, 'B-КАТЕГОРИЯ ТОВАРА')]"
        ],
        [
         "11",
         "[(0, 13, 'B-КАТЕГОРИЯ ТОВАРА')]"
        ],
        [
         "12",
         "[(0, 6, 'B-КАТЕГОРИЯ ТОВАРА'), (7, 11, 'I-КАТЕГОРИЯ ТОВАРА')]"
        ],
        [
         "13",
         "[(0, 4, 'B-КАТЕГОРИЯ ТОВАРА'), (8, 17, 'B-КАТЕГОРИЯ ТОВАРА')]"
        ],
        [
         "14",
         "[(0, 2, 'B-КАТЕГОРИЯ ТОВАРА'), (3, 15, 'I-КАТЕГОРИЯ ТОВАРА')]"
        ],
        [
         "15",
         "[(0, 7, 'B-БРЕНД')]"
        ],
        [
         "16",
         "[(0, 14, 'B-БРЕНД'), (16, 25, 'B-КАТЕГОРИЯ ТОВАРА')]"
        ],
        [
         "17",
         "[(0, 6, 'B-КАТЕГОРИЯ ТОВАРА')]"
        ],
        [
         "18",
         "[(0, 5, 'B-КАТЕГОРИЯ ТОВАРА')]"
        ],
        [
         "19",
         "[(0, 7, 'B-БРЕНД')]"
        ],
        [
         "20",
         "[(0, 7, 'B-КАТЕГОРИЯ ТОВАРА'), (8, 12, 'I-КАТЕГОРИЯ ТОВАРА')]"
        ],
        [
         "21",
         "[(0, 8, 'B-КАТЕГОРИЯ ТОВАРА')]"
        ],
        [
         "22",
         "[(0, 10, 'B-КАТЕГОРИЯ ТОВАРА')]"
        ],
        [
         "23",
         "[(0, 6, 'B-КАТЕГОРИЯ ТОВАРА'), (7, 13, 'B-БРЕНД')]"
        ],
        [
         "24",
         "[(0, 6, 'B-ОБЪЕМ')]"
        ],
        [
         "25",
         "[(0, 12, 'B-КАТЕГОРИЯ ТОВАРА')]"
        ],
        [
         "26",
         "[(0, 4, 'B-БРЕНД')]"
        ],
        [
         "27",
         "[(0, 12, 'B-КАТЕГОРИЯ ТОВАРА')]"
        ],
        [
         "28",
         "[(0, 7, 'B-КАТЕГОРИЯ ТОВАРА')]"
        ],
        [
         "29",
         "[(0, 6, 'B-КАТЕГОРИЯ ТОВАРА')]"
        ],
        [
         "30",
         "[(0, 9, 'B-БРЕНД'), (10, 18, 'B-КАТЕГОРИЯ ТОВАРА')]"
        ],
        [
         "31",
         "[(0, 9, 'B-КАТЕГОРИЯ ТОВАРА')]"
        ],
        [
         "32",
         "[(0, 4, 'B-КАТЕГОРИЯ ТОВАРА'), (5, 9, 'I-КАТЕГОРИЯ ТОВАРА')]"
        ],
        [
         "33",
         "[(0, 3, 'B-БРЕНД')]"
        ],
        [
         "34",
         "[(0, 8, 'B-БРЕНД'), (9, 15, 'B-КАТЕГОРИЯ ТОВАРА')]"
        ],
        [
         "35",
         "[(0, 4, 'B-КАТЕГОРИЯ ТОВАРА'), (5, 12, 'I-КАТЕГОРИЯ ТОВАРА'), (13, 20, 'I-КАТЕГОРИЯ ТОВАРА')]"
        ],
        [
         "36",
         "[(0, 10, 'B-КАТЕГОРИЯ ТОВАРА'), (11, 19, 'I-КАТЕГОРИЯ ТОВАРА')]"
        ],
        [
         "37",
         "[(0, 4, 'B-КАТЕГОРИЯ ТОВАРА'), (5, 16, 'I-КАТЕГОРИЯ ТОВАРА')]"
        ],
        [
         "38",
         "[(0, 19, 'B-КАТЕГОРИЯ ТОВАРА')]"
        ],
        [
         "39",
         "[(0, 7, 'B-КАТЕГОРИЯ ТОВАРА'), (8, 15, 'B-БРЕНД')]"
        ],
        [
         "40",
         "[(0, 11, 'B-КАТЕГОРИЯ ТОВАРА')]"
        ],
        [
         "41",
         "[(0, 7, 'B-КАТЕГОРИЯ ТОВАРА'), (7, 8, 'I-КАТЕГОРИЯ ТОВАРА')]"
        ],
        [
         "42",
         "[(0, 2, 'B-КАТЕГОРИЯ ТОВАРА')]"
        ],
        [
         "43",
         "[(0, 17, 'B-КАТЕГОРИЯ ТОВАРА')]"
        ],
        [
         "44",
         "[(0, 13, 'B-КАТЕГОРИЯ ТОВАРА')]"
        ],
        [
         "45",
         "[(0, 5, 'B-КАТЕГОРИЯ ТОВАРА'), (6, 8, 'I-КАТЕГОРИЯ ТОВАРА'), (9, 11, 'I-КАТЕГОРИЯ ТОВАРА')]"
        ],
        [
         "46",
         "[(0, 11, 'B-КАТЕГОРИЯ ТОВАРА')]"
        ],
        [
         "47",
         "[(0, 6, 'B-КАТЕГОРИЯ ТОВАРА')]"
        ],
        [
         "48",
         "[(0, 8, 'B-БРЕНД')]"
        ],
        [
         "49",
         "[(0, 6, 'B-КАТЕГОРИЯ ТОВАРА')]"
        ]
       ],
       "shape": {
        "columns": 1,
        "rows": 5000
       }
      },
      "text/plain": [
       "0                         [(0, 17, 'B-КАТЕГОРИЯ ТОВАРА')]\n",
       "1                         [(0, 11, 'B-КАТЕГОРИЯ ТОВАРА')]\n",
       "2       [(0, 14, 'B-КАТЕГОРИЯ ТОВАРА'), (15, 25, 'I-КА...\n",
       "3                                     [(0, 6, 'B-БРЕНД')]\n",
       "4                          [(0, 7, 'B-КАТЕГОРИЯ ТОВАРА')]\n",
       "                              ...                        \n",
       "4995                                  [(0, 7, 'B-БРЕНД')]\n",
       "4996                      [(0, 22, 'B-КАТЕГОРИЯ ТОВАРА')]\n",
       "4997                       [(0, 8, 'B-КАТЕГОРИЯ ТОВАРА')]\n",
       "4998                       [(0, 4, 'B-КАТЕГОРИЯ ТОВАРА')]\n",
       "4999                       [(0, 6, 'B-КАТЕГОРИЯ ТОВАРА')]\n",
       "Name: spans, Length: 5000, dtype: object"
      ]
     },
     "execution_count": 24,
     "metadata": {},
     "output_type": "execute_result"
    }
   ],
   "source": [
    "# df_test['new_spans'] = \n",
    "df_test['spans'].astype(object).astype(str).replace({'БРЕНД':'BRAND',\n",
    "                          'КАТЕГОРИЯ ТОВАРА': 'TYPE',\n",
    "                          'ОБЪЕМ': 'VOLUME',\n",
    "                          'ПРОЦЕНТЫ': 'PERCENT'})\n",
    "\n",
    "# labels = [\"бренд\", \"категория товара\", \"объем\", \"проценты\"]\n",
    "# # labels = [\"BRAND\", \"TYPE\", \"PERCENT\", \"VOLUME\"]"
   ]
  },
  {
   "cell_type": "code",
   "execution_count": 29,
   "id": "feb1de6e",
   "metadata": {},
   "outputs": [],
   "source": [
    "mapping = {\n",
    "    'БРЕНД': 'BRAND',\n",
    "    'КАТЕГОРИЯ ТОВАРА': 'TYPE',\n",
    "    'ОБЪЕМ': 'VOLUME',\n",
    "    'ПРОЦЕНТЫ': 'PERCENT'\n",
    "}\n",
    "\n",
    "# Function to replace inside spans\n",
    "def replace_spans(spans):\n",
    "    new_spans = []\n",
    "    for start, end, label in spans:\n",
    "        if \"-\" in label:  # e.g. \"B-КАТЕГОРИЯ ТОВАРА\"\n",
    "            prefix, key = label.split(\"-\", 1)\n",
    "            key = mapping.get(key, key)  # replace if in dict\n",
    "            new_spans.append((start, end, f\"{prefix}-{key}\"))\n",
    "        else:\n",
    "            # If no prefix, just map\n",
    "            new_spans.append((start, end, mapping.get(label, label)))\n",
    "    return new_spans"
   ]
  },
  {
   "cell_type": "code",
   "execution_count": 30,
   "id": "5b3447c1",
   "metadata": {},
   "outputs": [],
   "source": [
    "df_test[\"new_spans\"] = df_test[\"spans\"].apply(replace_spans)"
   ]
  },
  {
   "cell_type": "code",
   "execution_count": 31,
   "id": "7aab3c67",
   "metadata": {},
   "outputs": [
    {
     "data": {
      "application/vnd.microsoft.datawrangler.viewer.v0+json": {
       "columns": [
        {
         "name": "index",
         "rawType": "int64",
         "type": "integer"
        },
        {
         "name": "sample",
         "rawType": "object",
         "type": "string"
        },
        {
         "name": "annotation",
         "rawType": "object",
         "type": "string"
        },
        {
         "name": "spans",
         "rawType": "object",
         "type": "unknown"
        },
        {
         "name": "new_spans",
         "rawType": "object",
         "type": "unknown"
        }
       ],
       "ref": "75c97cca-07a6-4966-a49d-476fb1a7afcd",
       "rows": [
        [
         "0",
         "форма для выпечки",
         "[(0, 5, 'B-TYPE'), (6, 9, 'I-TYPE'), (10, 17, 'I-TYPE')]",
         "[(0, 17, 'B-КАТЕГОРИЯ ТОВАРА')]",
         "[(0, 17, 'B-TYPE')]"
        ],
        [
         "1",
         "фарш свиной",
         "[(0, 4, 'B-TYPE'), (5, 11, 'I-TYPE')]",
         "[(0, 11, 'B-КАТЕГОРИЯ ТОВАРА')]",
         "[(0, 11, 'B-TYPE')]"
        ],
        [
         "2",
         "сок ананасовый без сахара",
         "[(0, 3, 'B-TYPE'), (4, 14, 'I-TYPE'), (15, 18, 'I-TYPE'), (19, 25, 'I-TYPE')]",
         "[(0, 14, 'B-КАТЕГОРИЯ ТОВАРА'), (15, 25, 'I-КАТЕГОРИЯ ТОВАРА')]",
         "[(0, 14, 'B-TYPE'), (15, 25, 'I-TYPE')]"
        ],
        [
         "3",
         "еринги",
         "[(0, 6, 'B-TYPE')]",
         "[(0, 6, 'B-БРЕНД')]",
         "[(0, 6, 'B-BRAND')]"
        ],
        [
         "4",
         "молооко",
         "[(0, 7, 'B-TYPE')]",
         "[(0, 7, 'B-КАТЕГОРИЯ ТОВАРА')]",
         "[(0, 7, 'B-TYPE')]"
        ],
        [
         "5",
         "поролок",
         "[(0, 7, 'B-TYPE')]",
         "[(0, 7, 'B-КАТЕГОРИЯ ТОВАРА')]",
         "[(0, 7, 'B-TYPE')]"
        ],
        [
         "6",
         "свмнина",
         "[(0, 7, 'B-TYPE')]",
         "[(0, 7, 'B-КАТЕГОРИЯ ТОВАРА')]",
         "[(0, 7, 'B-TYPE')]"
        ],
        [
         "7",
         "припрааа для рыбы",
         "[(0, 8, 'B-TYPE'), (9, 12, 'I-TYPE'), (13, 17, 'I-TYPE')]",
         "[(0, 8, 'B-КАТЕГОРИЯ ТОВАРА'), (13, 17, 'B-КАТЕГОРИЯ ТОВАРА')]",
         "[(0, 8, 'B-TYPE'), (13, 17, 'B-TYPE')]"
        ],
        [
         "8",
         "сулугцн",
         "[(0, 7, 'B-TYPE')]",
         "[(0, 7, 'B-БРЕНД')]",
         "[(0, 7, 'B-BRAND')]"
        ],
        [
         "9",
         "mitti",
         "[(0, 5, 'B-BRAND')]",
         "[(0, 5, 'B-КАТЕГОРИЯ ТОВАРА')]",
         "[(0, 5, 'B-TYPE')]"
        ],
        [
         "10",
         "пастеризованна",
         "[(0, 14, 'B-TYPE')]",
         "[(0, 14, 'B-КАТЕГОРИЯ ТОВАРА')]",
         "[(0, 14, 'B-TYPE')]"
        ],
        [
         "11",
         "полуфабрикаиы",
         "[(0, 13, 'B-TYPE')]",
         "[(0, 13, 'B-КАТЕГОРИЯ ТОВАРА')]",
         "[(0, 13, 'B-TYPE')]"
        ],
        [
         "12",
         "семена экон",
         "[(0, 6, 'B-TYPE'), (7, 11, 'I-TYPE')]",
         "[(0, 6, 'B-КАТЕГОРИЯ ТОВАРА'), (7, 11, 'I-КАТЕГОРИЯ ТОВАРА')]",
         "[(0, 6, 'B-TYPE'), (7, 11, 'I-TYPE')]"
        ],
        [
         "13",
         "соус по грузински",
         "[(0, 4, 'B-TYPE'), (5, 7, 'I-TYPE'), (8, 17, 'I-TYPE')]",
         "[(0, 4, 'B-КАТЕГОРИЯ ТОВАРА'), (8, 17, 'B-КАТЕГОРИЯ ТОВАРА')]",
         "[(0, 4, 'B-TYPE'), (8, 17, 'B-TYPE')]"
        ],
        [
         "14",
         "то матная паста",
         "[(0, 2, 'B-TYPE'), (3, 9, 'I-TYPE'), (10, 15, 'I-TYPE')]",
         "[(0, 2, 'B-КАТЕГОРИЯ ТОВАРА'), (3, 15, 'I-КАТЕГОРИЯ ТОВАРА')]",
         "[(0, 2, 'B-TYPE'), (3, 15, 'I-TYPE')]"
        ],
        [
         "15",
         "фаворит",
         "[(0, 7, 'B-TYPE')]",
         "[(0, 7, 'B-БРЕНД')]",
         "[(0, 7, 'B-BRAND')]"
        ],
        [
         "16",
         "ополаскиватель. для белья",
         "[(0, 15, 'B-TYPE'), (16, 19, 'I-TYPE'), (20, 25, 'I-TYPE')]",
         "[(0, 14, 'B-БРЕНД'), (16, 25, 'B-КАТЕГОРИЯ ТОВАРА')]",
         "[(0, 14, 'B-BRAND'), (16, 25, 'B-TYPE')]"
        ],
        [
         "17",
         "сливкп",
         "[(0, 6, 'B-TYPE')]",
         "[(0, 6, 'B-КАТЕГОРИЯ ТОВАРА')]",
         "[(0, 6, 'B-TYPE')]"
        ],
        [
         "18",
         "бамбу",
         "[(0, 5, 'B-TYPE')]",
         "[(0, 5, 'B-КАТЕГОРИЯ ТОВАРА')]",
         "[(0, 5, 'B-TYPE')]"
        ],
        [
         "19",
         "nishoom",
         "[(0, 7, 'B-BRAND')]",
         "[(0, 7, 'B-БРЕНД')]",
         "[(0, 7, 'B-BRAND')]"
        ],
        [
         "20",
         "семушка орех",
         "[(0, 7, 'B-TYPE'), (8, 12, 'I-TYPE')]",
         "[(0, 7, 'B-КАТЕГОРИЯ ТОВАРА'), (8, 12, 'I-КАТЕГОРИЯ ТОВАРА')]",
         "[(0, 7, 'B-TYPE'), (8, 12, 'I-TYPE')]"
        ],
        [
         "21",
         "немолоко",
         "[(0, 8, 'B-TYPE')]",
         "[(0, 8, 'B-КАТЕГОРИЯ ТОВАРА')]",
         "[(0, 8, 'B-TYPE')]"
        ],
        [
         "22",
         "прочий чай",
         "[(0, 6, 'B-TYPE'), (7, 10, 'I-TYPE')]",
         "[(0, 10, 'B-КАТЕГОРИЯ ТОВАРА')]",
         "[(0, 10, 'B-TYPE')]"
        ],
        [
         "23",
         "сейчас мантел",
         "[(0, 6, 'B-TYPE'), (7, 13, 'I-TYPE')]",
         "[(0, 6, 'B-КАТЕГОРИЯ ТОВАРА'), (7, 13, 'B-БРЕНД')]",
         "[(0, 6, 'B-TYPE'), (7, 13, 'B-BRAND')]"
        ],
        [
         "24",
         "петмол",
         "[(0, 6, 'B-TYPE')]",
         "[(0, 6, 'B-ОБЪЕМ')]",
         "[(0, 6, 'B-VOLUME')]"
        ],
        [
         "25",
         "сырокопчёная",
         "[(0, 12, 'B-TYPE')]",
         "[(0, 12, 'B-КАТЕГОРИЯ ТОВАРА')]",
         "[(0, 12, 'B-TYPE')]"
        ],
        [
         "26",
         "chco",
         "[(0, 4, 'B-BRAND')]",
         "[(0, 4, 'B-БРЕНД')]",
         "[(0, 4, 'B-BRAND')]"
        ],
        [
         "27",
         "сосиски желе",
         "[(0, 7, 'B-TYPE'), (8, 12, 'I-TYPE')]",
         "[(0, 12, 'B-КАТЕГОРИЯ ТОВАРА')]",
         "[(0, 12, 'B-TYPE')]"
        ],
        [
         "28",
         "гречкан",
         "[(0, 7, 'B-TYPE')]",
         "[(0, 7, 'B-КАТЕГОРИЯ ТОВАРА')]",
         "[(0, 7, 'B-TYPE')]"
        ],
        [
         "29",
         "cheese",
         "[(0, 6, 'B-BRAND')]",
         "[(0, 6, 'B-КАТЕГОРИЯ ТОВАРА')]",
         "[(0, 6, 'B-TYPE')]"
        ],
        [
         "30",
         "dr.oetker ванильны",
         "[(0, 9, 'B-BRAND'), (10, 18, 'B-TYPE')]",
         "[(0, 9, 'B-БРЕНД'), (10, 18, 'B-КАТЕГОРИЯ ТОВАРА')]",
         "[(0, 9, 'B-BRAND'), (10, 18, 'B-TYPE')]"
        ],
        [
         "31",
         "антистати",
         "[(0, 9, 'B-TYPE')]",
         "[(0, 9, 'B-КАТЕГОРИЯ ТОВАРА')]",
         "[(0, 9, 'B-TYPE')]"
        ],
        [
         "32",
         "очки гала",
         "[(0, 4, 'B-TYPE'), (5, 9, 'I-TYPE')]",
         "[(0, 4, 'B-КАТЕГОРИЯ ТОВАРА'), (5, 9, 'I-КАТЕГОРИЯ ТОВАРА')]",
         "[(0, 4, 'B-TYPE'), (5, 9, 'I-TYPE')]"
        ],
        [
         "33",
         "сов",
         "[(0, 3, 'B-TYPE')]",
         "[(0, 3, 'B-БРЕНД')]",
         "[(0, 3, 'B-BRAND')]"
        ],
        [
         "34",
         "atlantic плавки",
         "[(0, 8, 'B-BRAND'), (9, 15, 'B-TYPE')]",
         "[(0, 8, 'B-БРЕНД'), (9, 15, 'B-КАТЕГОРИЯ ТОВАРА')]",
         "[(0, 8, 'B-BRAND'), (9, 15, 'B-TYPE')]"
        ],
        [
         "35",
         "мясо свинина индейка",
         "[(0, 4, 'B-TYPE'), (5, 12, 'I-TYPE'), (13, 20, 'I-TYPE')]",
         "[(0, 4, 'B-КАТЕГОРИЯ ТОВАРА'), (5, 12, 'I-КАТЕГОРИЯ ТОВАРА'), (13, 20, 'I-КАТЕГОРИЯ ТОВАРА')]",
         "[(0, 4, 'B-TYPE'), (5, 12, 'I-TYPE'), (13, 20, 'I-TYPE')]"
        ],
        [
         "36",
         "соседдушка трубочка",
         "[(0, 10, 'B-TYPE'), (11, 19, 'I-TYPE')]",
         "[(0, 10, 'B-КАТЕГОРИЯ ТОВАРА'), (11, 19, 'I-КАТЕГОРИЯ ТОВАРА')]",
         "[(0, 10, 'B-TYPE'), (11, 19, 'I-TYPE')]"
        ],
        [
         "37",
         "хлеб белый батон",
         "[(0, 4, 'B-TYPE'), (5, 10, 'I-TYPE'), (11, 16, 'I-TYPE')]",
         "[(0, 4, 'B-КАТЕГОРИЯ ТОВАРА'), (5, 16, 'I-КАТЕГОРИЯ ТОВАРА')]",
         "[(0, 4, 'B-TYPE'), (5, 16, 'I-TYPE')]"
        ],
        [
         "38",
         "огурцы маринованные",
         "[(0, 6, 'B-TYPE'), (7, 19, 'I-TYPE')]",
         "[(0, 19, 'B-КАТЕГОРИЯ ТОВАРА')]",
         "[(0, 19, 'B-TYPE')]"
        ],
        [
         "39",
         "маслины vitalan",
         "[(0, 7, 'B-TYPE'), (8, 15, 'B-BRAND')]",
         "[(0, 7, 'B-КАТЕГОРИЯ ТОВАРА'), (8, 15, 'B-БРЕНД')]",
         "[(0, 7, 'B-TYPE'), (8, 15, 'B-BRAND')]"
        ],
        [
         "40",
         "маринованое",
         "[(0, 11, 'B-TYPE')]",
         "[(0, 11, 'B-КАТЕГОРИЯ ТОВАРА')]",
         "[(0, 11, 'B-TYPE')]"
        ],
        [
         "41",
         "сосиски,",
         "[(0, 8, 'B-TYPE')]",
         "[(0, 7, 'B-КАТЕГОРИЯ ТОВАРА'), (7, 8, 'I-КАТЕГОРИЯ ТОВАРА')]",
         "[(0, 7, 'B-TYPE'), (7, 8, 'I-TYPE')]"
        ],
        [
         "42",
         "оп",
         "[(0, 2, 'B-TYPE')]",
         "[(0, 2, 'B-КАТЕГОРИЯ ТОВАРА')]",
         "[(0, 2, 'B-TYPE')]"
        ],
        [
         "43",
         "удлинители камели",
         "[(0, 10, 'B-TYPE'), (11, 17, 'I-TYPE')]",
         "[(0, 17, 'B-КАТЕГОРИЯ ТОВАРА')]",
         "[(0, 17, 'B-TYPE')]"
        ],
        [
         "44",
         "пастеризованн",
         "[(0, 13, 'B-TYPE')]",
         "[(0, 13, 'B-КАТЕГОРИЯ ТОВАРА')]",
         "[(0, 13, 'B-TYPE')]"
        ],
        [
         "45",
         "сырок за из",
         "[(0, 5, 'B-TYPE'), (6, 8, 'I-TYPE'), (9, 11, 'I-TYPE')]",
         "[(0, 5, 'B-КАТЕГОРИЯ ТОВАРА'), (6, 8, 'I-КАТЕГОРИЯ ТОВАРА'), (9, 11, 'I-КАТЕГОРИЯ ТОВАРА')]",
         "[(0, 5, 'B-TYPE'), (6, 8, 'I-TYPE'), (9, 11, 'I-TYPE')]"
        ],
        [
         "46",
         "крекер baul",
         "[(0, 6, 'B-TYPE'), (7, 11, 'B-BRAND')]",
         "[(0, 11, 'B-КАТЕГОРИЯ ТОВАРА')]",
         "[(0, 11, 'B-TYPE')]"
        ],
        [
         "47",
         "нблины",
         "[(0, 6, 'B-TYPE')]",
         "[(0, 6, 'B-КАТЕГОРИЯ ТОВАРА')]",
         "[(0, 6, 'B-TYPE')]"
        ],
        [
         "48",
         "крриандр",
         "[(0, 8, 'B-TYPE')]",
         "[(0, 8, 'B-БРЕНД')]",
         "[(0, 8, 'B-BRAND')]"
        ],
        [
         "49",
         "сыорок",
         "[(0, 6, 'B-TYPE')]",
         "[(0, 6, 'B-КАТЕГОРИЯ ТОВАРА')]",
         "[(0, 6, 'B-TYPE')]"
        ]
       ],
       "shape": {
        "columns": 4,
        "rows": 5000
       }
      },
      "text/html": [
       "<div>\n",
       "<style scoped>\n",
       "    .dataframe tbody tr th:only-of-type {\n",
       "        vertical-align: middle;\n",
       "    }\n",
       "\n",
       "    .dataframe tbody tr th {\n",
       "        vertical-align: top;\n",
       "    }\n",
       "\n",
       "    .dataframe thead th {\n",
       "        text-align: right;\n",
       "    }\n",
       "</style>\n",
       "<table border=\"1\" class=\"dataframe\">\n",
       "  <thead>\n",
       "    <tr style=\"text-align: right;\">\n",
       "      <th></th>\n",
       "      <th>sample</th>\n",
       "      <th>annotation</th>\n",
       "      <th>spans</th>\n",
       "      <th>new_spans</th>\n",
       "    </tr>\n",
       "  </thead>\n",
       "  <tbody>\n",
       "    <tr>\n",
       "      <th>0</th>\n",
       "      <td>форма для выпечки</td>\n",
       "      <td>[(0, 5, 'B-TYPE'), (6, 9, 'I-TYPE'), (10, 17, ...</td>\n",
       "      <td>[(0, 17, B-КАТЕГОРИЯ ТОВАРА)]</td>\n",
       "      <td>[(0, 17, B-TYPE)]</td>\n",
       "    </tr>\n",
       "    <tr>\n",
       "      <th>1</th>\n",
       "      <td>фарш свиной</td>\n",
       "      <td>[(0, 4, 'B-TYPE'), (5, 11, 'I-TYPE')]</td>\n",
       "      <td>[(0, 11, B-КАТЕГОРИЯ ТОВАРА)]</td>\n",
       "      <td>[(0, 11, B-TYPE)]</td>\n",
       "    </tr>\n",
       "    <tr>\n",
       "      <th>2</th>\n",
       "      <td>сок ананасовый без сахара</td>\n",
       "      <td>[(0, 3, 'B-TYPE'), (4, 14, 'I-TYPE'), (15, 18,...</td>\n",
       "      <td>[(0, 14, B-КАТЕГОРИЯ ТОВАРА), (15, 25, I-КАТЕГ...</td>\n",
       "      <td>[(0, 14, B-TYPE), (15, 25, I-TYPE)]</td>\n",
       "    </tr>\n",
       "    <tr>\n",
       "      <th>3</th>\n",
       "      <td>еринги</td>\n",
       "      <td>[(0, 6, 'B-TYPE')]</td>\n",
       "      <td>[(0, 6, B-БРЕНД)]</td>\n",
       "      <td>[(0, 6, B-BRAND)]</td>\n",
       "    </tr>\n",
       "    <tr>\n",
       "      <th>4</th>\n",
       "      <td>молооко</td>\n",
       "      <td>[(0, 7, 'B-TYPE')]</td>\n",
       "      <td>[(0, 7, B-КАТЕГОРИЯ ТОВАРА)]</td>\n",
       "      <td>[(0, 7, B-TYPE)]</td>\n",
       "    </tr>\n",
       "    <tr>\n",
       "      <th>...</th>\n",
       "      <td>...</td>\n",
       "      <td>...</td>\n",
       "      <td>...</td>\n",
       "      <td>...</td>\n",
       "    </tr>\n",
       "    <tr>\n",
       "      <th>4995</th>\n",
       "      <td>milkywa</td>\n",
       "      <td>[(0, 7, 'B-BRAND')]</td>\n",
       "      <td>[(0, 7, B-БРЕНД)]</td>\n",
       "      <td>[(0, 7, B-BRAND)]</td>\n",
       "    </tr>\n",
       "    <tr>\n",
       "      <th>4996</th>\n",
       "      <td>очиститель для унитаза</td>\n",
       "      <td>[(0, 10, 'B-TYPE'), (11, 14, 'I-TYPE'), (15, 2...</td>\n",
       "      <td>[(0, 22, B-КАТЕГОРИЯ ТОВАРА)]</td>\n",
       "      <td>[(0, 22, B-TYPE)]</td>\n",
       "    </tr>\n",
       "    <tr>\n",
       "      <th>4997</th>\n",
       "      <td>арбузные</td>\n",
       "      <td>[(0, 8, 'B-TYPE')]</td>\n",
       "      <td>[(0, 8, B-КАТЕГОРИЯ ТОВАРА)]</td>\n",
       "      <td>[(0, 8, B-TYPE)]</td>\n",
       "    </tr>\n",
       "    <tr>\n",
       "      <th>4998</th>\n",
       "      <td>кашы</td>\n",
       "      <td>[(0, 4, 'B-TYPE')]</td>\n",
       "      <td>[(0, 4, B-КАТЕГОРИЯ ТОВАРА)]</td>\n",
       "      <td>[(0, 4, B-TYPE)]</td>\n",
       "    </tr>\n",
       "    <tr>\n",
       "      <th>4999</th>\n",
       "      <td>рычалк</td>\n",
       "      <td>[(0, 6, 'B-TYPE')]</td>\n",
       "      <td>[(0, 6, B-КАТЕГОРИЯ ТОВАРА)]</td>\n",
       "      <td>[(0, 6, B-TYPE)]</td>\n",
       "    </tr>\n",
       "  </tbody>\n",
       "</table>\n",
       "<p>5000 rows × 4 columns</p>\n",
       "</div>"
      ],
      "text/plain": [
       "                         sample  \\\n",
       "0             форма для выпечки   \n",
       "1                   фарш свиной   \n",
       "2     сок ананасовый без сахара   \n",
       "3                        еринги   \n",
       "4                       молооко   \n",
       "...                         ...   \n",
       "4995                    milkywa   \n",
       "4996     очиститель для унитаза   \n",
       "4997                   арбузные   \n",
       "4998                       кашы   \n",
       "4999                     рычалк   \n",
       "\n",
       "                                             annotation  \\\n",
       "0     [(0, 5, 'B-TYPE'), (6, 9, 'I-TYPE'), (10, 17, ...   \n",
       "1                 [(0, 4, 'B-TYPE'), (5, 11, 'I-TYPE')]   \n",
       "2     [(0, 3, 'B-TYPE'), (4, 14, 'I-TYPE'), (15, 18,...   \n",
       "3                                    [(0, 6, 'B-TYPE')]   \n",
       "4                                    [(0, 7, 'B-TYPE')]   \n",
       "...                                                 ...   \n",
       "4995                                [(0, 7, 'B-BRAND')]   \n",
       "4996  [(0, 10, 'B-TYPE'), (11, 14, 'I-TYPE'), (15, 2...   \n",
       "4997                                 [(0, 8, 'B-TYPE')]   \n",
       "4998                                 [(0, 4, 'B-TYPE')]   \n",
       "4999                                 [(0, 6, 'B-TYPE')]   \n",
       "\n",
       "                                                  spans  \\\n",
       "0                         [(0, 17, B-КАТЕГОРИЯ ТОВАРА)]   \n",
       "1                         [(0, 11, B-КАТЕГОРИЯ ТОВАРА)]   \n",
       "2     [(0, 14, B-КАТЕГОРИЯ ТОВАРА), (15, 25, I-КАТЕГ...   \n",
       "3                                     [(0, 6, B-БРЕНД)]   \n",
       "4                          [(0, 7, B-КАТЕГОРИЯ ТОВАРА)]   \n",
       "...                                                 ...   \n",
       "4995                                  [(0, 7, B-БРЕНД)]   \n",
       "4996                      [(0, 22, B-КАТЕГОРИЯ ТОВАРА)]   \n",
       "4997                       [(0, 8, B-КАТЕГОРИЯ ТОВАРА)]   \n",
       "4998                       [(0, 4, B-КАТЕГОРИЯ ТОВАРА)]   \n",
       "4999                       [(0, 6, B-КАТЕГОРИЯ ТОВАРА)]   \n",
       "\n",
       "                                new_spans  \n",
       "0                       [(0, 17, B-TYPE)]  \n",
       "1                       [(0, 11, B-TYPE)]  \n",
       "2     [(0, 14, B-TYPE), (15, 25, I-TYPE)]  \n",
       "3                       [(0, 6, B-BRAND)]  \n",
       "4                        [(0, 7, B-TYPE)]  \n",
       "...                                   ...  \n",
       "4995                    [(0, 7, B-BRAND)]  \n",
       "4996                    [(0, 22, B-TYPE)]  \n",
       "4997                     [(0, 8, B-TYPE)]  \n",
       "4998                     [(0, 4, B-TYPE)]  \n",
       "4999                     [(0, 6, B-TYPE)]  \n",
       "\n",
       "[5000 rows x 4 columns]"
      ]
     },
     "execution_count": 31,
     "metadata": {},
     "output_type": "execute_result"
    }
   ],
   "source": [
    "df_test"
   ]
  },
  {
   "cell_type": "code",
   "execution_count": 32,
   "id": "51fd0506",
   "metadata": {},
   "outputs": [],
   "source": [
    "df_new = df_test.copy(deep=True)"
   ]
  },
  {
   "cell_type": "code",
   "execution_count": 33,
   "id": "214b830e",
   "metadata": {},
   "outputs": [],
   "source": [
    "df_new = df_new.drop(['annotation', 'spans'], axis=1)"
   ]
  },
  {
   "cell_type": "code",
   "execution_count": 38,
   "id": "ff1392ad",
   "metadata": {},
   "outputs": [],
   "source": [
    "df_new = df_new.rename(columns={'new_spans': 'annotation'})"
   ]
  },
  {
   "cell_type": "code",
   "execution_count": 39,
   "id": "f75d78c6",
   "metadata": {},
   "outputs": [],
   "source": [
    "df_new.to_csv('../data/submissions/submission.csv', index=False, sep=';')"
   ]
  },
  {
   "cell_type": "code",
   "execution_count": null,
   "id": "deb02d2d",
   "metadata": {},
   "outputs": [],
   "source": []
  }
 ],
 "metadata": {
  "kernelspec": {
   "display_name": ".venv",
   "language": "python",
   "name": "python3"
  },
  "language_info": {
   "codemirror_mode": {
    "name": "ipython",
    "version": 3
   },
   "file_extension": ".py",
   "mimetype": "text/x-python",
   "name": "python",
   "nbconvert_exporter": "python",
   "pygments_lexer": "ipython3",
   "version": "3.12.11"
  }
 },
 "nbformat": 4,
 "nbformat_minor": 5
}
